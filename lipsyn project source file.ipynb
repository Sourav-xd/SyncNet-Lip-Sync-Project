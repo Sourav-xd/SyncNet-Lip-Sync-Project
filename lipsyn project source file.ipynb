{
  "nbformat": 4,
  "nbformat_minor": 0,
  "metadata": {
    "colab": {
      "provenance": [],
      "gpuType": "T4"
    },
    "kernelspec": {
      "name": "python3",
      "display_name": "Python 3"
    },
    "language_info": {
      "name": "python"
    },
    "accelerator": "GPU"
  },
  "cells": [
    {
      "cell_type": "code",
      "execution_count": 1,
      "metadata": {
        "colab": {
          "base_uri": "https://localhost:8080/"
        },
        "id": "Vl2iq4CNd4fq",
        "outputId": "d4bbfd64-46ad-4480-b9f2-f150314cb729"
      },
      "outputs": [
        {
          "output_type": "stream",
          "name": "stdout",
          "text": [
            "Reading package lists... Done\n",
            "Building dependency tree... Done\n",
            "Reading state information... Done\n",
            "ffmpeg is already the newest version (7:4.4.2-0ubuntu0.22.04.1).\n",
            "0 upgraded, 0 newly installed, 0 to remove and 23 not upgraded.\n",
            "Requirement already satisfied: numpy in /usr/local/lib/python3.11/dist-packages (1.26.4)\n",
            "Requirement already satisfied: scipy in /usr/local/lib/python3.11/dist-packages (1.13.1)\n",
            "Requirement already satisfied: moviepy in /usr/local/lib/python3.11/dist-packages (1.0.3)\n",
            "Requirement already satisfied: torch in /usr/local/lib/python3.11/dist-packages (2.5.1+cu124)\n",
            "Requirement already satisfied: torchvision in /usr/local/lib/python3.11/dist-packages (0.20.1+cu124)\n",
            "Requirement already satisfied: torchaudio in /usr/local/lib/python3.11/dist-packages (2.5.1+cu124)\n",
            "Requirement already satisfied: decorator<5.0,>=4.0.2 in /usr/local/lib/python3.11/dist-packages (from moviepy) (4.4.2)\n",
            "Requirement already satisfied: imageio<3.0,>=2.5 in /usr/local/lib/python3.11/dist-packages (from moviepy) (2.37.0)\n",
            "Requirement already satisfied: imageio_ffmpeg>=0.2.0 in /usr/local/lib/python3.11/dist-packages (from moviepy) (0.6.0)\n",
            "Requirement already satisfied: tqdm<5.0,>=4.11.2 in /usr/local/lib/python3.11/dist-packages (from moviepy) (4.67.1)\n",
            "Requirement already satisfied: requests<3.0,>=2.8.1 in /usr/local/lib/python3.11/dist-packages (from moviepy) (2.32.3)\n",
            "Requirement already satisfied: proglog<=1.0.0 in /usr/local/lib/python3.11/dist-packages (from moviepy) (0.1.10)\n",
            "Requirement already satisfied: filelock in /usr/local/lib/python3.11/dist-packages (from torch) (3.17.0)\n",
            "Requirement already satisfied: typing-extensions>=4.8.0 in /usr/local/lib/python3.11/dist-packages (from torch) (4.12.2)\n",
            "Requirement already satisfied: networkx in /usr/local/lib/python3.11/dist-packages (from torch) (3.4.2)\n",
            "Requirement already satisfied: jinja2 in /usr/local/lib/python3.11/dist-packages (from torch) (3.1.5)\n",
            "Requirement already satisfied: fsspec in /usr/local/lib/python3.11/dist-packages (from torch) (2024.10.0)\n",
            "Collecting nvidia-cuda-nvrtc-cu12==12.4.127 (from torch)\n",
            "  Downloading nvidia_cuda_nvrtc_cu12-12.4.127-py3-none-manylinux2014_x86_64.whl.metadata (1.5 kB)\n",
            "Collecting nvidia-cuda-runtime-cu12==12.4.127 (from torch)\n",
            "  Downloading nvidia_cuda_runtime_cu12-12.4.127-py3-none-manylinux2014_x86_64.whl.metadata (1.5 kB)\n",
            "Collecting nvidia-cuda-cupti-cu12==12.4.127 (from torch)\n",
            "  Downloading nvidia_cuda_cupti_cu12-12.4.127-py3-none-manylinux2014_x86_64.whl.metadata (1.6 kB)\n",
            "Collecting nvidia-cudnn-cu12==9.1.0.70 (from torch)\n",
            "  Downloading nvidia_cudnn_cu12-9.1.0.70-py3-none-manylinux2014_x86_64.whl.metadata (1.6 kB)\n",
            "Collecting nvidia-cublas-cu12==12.4.5.8 (from torch)\n",
            "  Downloading nvidia_cublas_cu12-12.4.5.8-py3-none-manylinux2014_x86_64.whl.metadata (1.5 kB)\n",
            "Collecting nvidia-cufft-cu12==11.2.1.3 (from torch)\n",
            "  Downloading nvidia_cufft_cu12-11.2.1.3-py3-none-manylinux2014_x86_64.whl.metadata (1.5 kB)\n",
            "Collecting nvidia-curand-cu12==10.3.5.147 (from torch)\n",
            "  Downloading nvidia_curand_cu12-10.3.5.147-py3-none-manylinux2014_x86_64.whl.metadata (1.5 kB)\n",
            "Collecting nvidia-cusolver-cu12==11.6.1.9 (from torch)\n",
            "  Downloading nvidia_cusolver_cu12-11.6.1.9-py3-none-manylinux2014_x86_64.whl.metadata (1.6 kB)\n",
            "Collecting nvidia-cusparse-cu12==12.3.1.170 (from torch)\n",
            "  Downloading nvidia_cusparse_cu12-12.3.1.170-py3-none-manylinux2014_x86_64.whl.metadata (1.6 kB)\n",
            "Requirement already satisfied: nvidia-nccl-cu12==2.21.5 in /usr/local/lib/python3.11/dist-packages (from torch) (2.21.5)\n",
            "Requirement already satisfied: nvidia-nvtx-cu12==12.4.127 in /usr/local/lib/python3.11/dist-packages (from torch) (12.4.127)\n",
            "Collecting nvidia-nvjitlink-cu12==12.4.127 (from torch)\n",
            "  Downloading nvidia_nvjitlink_cu12-12.4.127-py3-none-manylinux2014_x86_64.whl.metadata (1.5 kB)\n",
            "Requirement already satisfied: triton==3.1.0 in /usr/local/lib/python3.11/dist-packages (from torch) (3.1.0)\n",
            "Requirement already satisfied: sympy==1.13.1 in /usr/local/lib/python3.11/dist-packages (from torch) (1.13.1)\n",
            "Requirement already satisfied: mpmath<1.4,>=1.1.0 in /usr/local/lib/python3.11/dist-packages (from sympy==1.13.1->torch) (1.3.0)\n",
            "Requirement already satisfied: pillow!=8.3.*,>=5.3.0 in /usr/local/lib/python3.11/dist-packages (from torchvision) (11.1.0)\n",
            "Requirement already satisfied: charset-normalizer<4,>=2 in /usr/local/lib/python3.11/dist-packages (from requests<3.0,>=2.8.1->moviepy) (3.4.1)\n",
            "Requirement already satisfied: idna<4,>=2.5 in /usr/local/lib/python3.11/dist-packages (from requests<3.0,>=2.8.1->moviepy) (3.10)\n",
            "Requirement already satisfied: urllib3<3,>=1.21.1 in /usr/local/lib/python3.11/dist-packages (from requests<3.0,>=2.8.1->moviepy) (2.3.0)\n",
            "Requirement already satisfied: certifi>=2017.4.17 in /usr/local/lib/python3.11/dist-packages (from requests<3.0,>=2.8.1->moviepy) (2025.1.31)\n",
            "Requirement already satisfied: MarkupSafe>=2.0 in /usr/local/lib/python3.11/dist-packages (from jinja2->torch) (3.0.2)\n",
            "Downloading nvidia_cublas_cu12-12.4.5.8-py3-none-manylinux2014_x86_64.whl (363.4 MB)\n",
            "\u001b[2K   \u001b[90m━━━━━━━━━━━━━━━━━━━━━━━━━━━━━━━━━━━━━━━━\u001b[0m \u001b[32m363.4/363.4 MB\u001b[0m \u001b[31m3.5 MB/s\u001b[0m eta \u001b[36m0:00:00\u001b[0m\n",
            "\u001b[?25hDownloading nvidia_cuda_cupti_cu12-12.4.127-py3-none-manylinux2014_x86_64.whl (13.8 MB)\n",
            "\u001b[2K   \u001b[90m━━━━━━━━━━━━━━━━━━━━━━━━━━━━━━━━━━━━━━━━\u001b[0m \u001b[32m13.8/13.8 MB\u001b[0m \u001b[31m82.1 MB/s\u001b[0m eta \u001b[36m0:00:00\u001b[0m\n",
            "\u001b[?25hDownloading nvidia_cuda_nvrtc_cu12-12.4.127-py3-none-manylinux2014_x86_64.whl (24.6 MB)\n",
            "\u001b[2K   \u001b[90m━━━━━━━━━━━━━━━━━━━━━━━━━━━━━━━━━━━━━━━━\u001b[0m \u001b[32m24.6/24.6 MB\u001b[0m \u001b[31m60.4 MB/s\u001b[0m eta \u001b[36m0:00:00\u001b[0m\n",
            "\u001b[?25hDownloading nvidia_cuda_runtime_cu12-12.4.127-py3-none-manylinux2014_x86_64.whl (883 kB)\n",
            "\u001b[2K   \u001b[90m━━━━━━━━━━━━━━━━━━━━━━━━━━━━━━━━━━━━━━━━\u001b[0m \u001b[32m883.7/883.7 kB\u001b[0m \u001b[31m42.4 MB/s\u001b[0m eta \u001b[36m0:00:00\u001b[0m\n",
            "\u001b[?25hDownloading nvidia_cudnn_cu12-9.1.0.70-py3-none-manylinux2014_x86_64.whl (664.8 MB)\n",
            "\u001b[2K   \u001b[90m━━━━━━━━━━━━━━━━━━━━━━━━━━━━━━━━━━━━━━━━\u001b[0m \u001b[32m664.8/664.8 MB\u001b[0m \u001b[31m2.8 MB/s\u001b[0m eta \u001b[36m0:00:00\u001b[0m\n",
            "\u001b[?25hDownloading nvidia_cufft_cu12-11.2.1.3-py3-none-manylinux2014_x86_64.whl (211.5 MB)\n",
            "\u001b[2K   \u001b[90m━━━━━━━━━━━━━━━━━━━━━━━━━━━━━━━━━━━━━━━━\u001b[0m \u001b[32m211.5/211.5 MB\u001b[0m \u001b[31m6.1 MB/s\u001b[0m eta \u001b[36m0:00:00\u001b[0m\n",
            "\u001b[?25hDownloading nvidia_curand_cu12-10.3.5.147-py3-none-manylinux2014_x86_64.whl (56.3 MB)\n",
            "\u001b[2K   \u001b[90m━━━━━━━━━━━━━━━━━━━━━━━━━━━━━━━━━━━━━━━━\u001b[0m \u001b[32m56.3/56.3 MB\u001b[0m \u001b[31m12.8 MB/s\u001b[0m eta \u001b[36m0:00:00\u001b[0m\n",
            "\u001b[?25hDownloading nvidia_cusolver_cu12-11.6.1.9-py3-none-manylinux2014_x86_64.whl (127.9 MB)\n",
            "\u001b[2K   \u001b[90m━━━━━━━━━━━━━━━━━━━━━━━━━━━━━━━━━━━━━━━━\u001b[0m \u001b[32m127.9/127.9 MB\u001b[0m \u001b[31m7.2 MB/s\u001b[0m eta \u001b[36m0:00:00\u001b[0m\n",
            "\u001b[?25hDownloading nvidia_cusparse_cu12-12.3.1.170-py3-none-manylinux2014_x86_64.whl (207.5 MB)\n",
            "\u001b[2K   \u001b[90m━━━━━━━━━━━━━━━━━━━━━━━━━━━━━━━━━━━━━━━━\u001b[0m \u001b[32m207.5/207.5 MB\u001b[0m \u001b[31m5.3 MB/s\u001b[0m eta \u001b[36m0:00:00\u001b[0m\n",
            "\u001b[?25hDownloading nvidia_nvjitlink_cu12-12.4.127-py3-none-manylinux2014_x86_64.whl (21.1 MB)\n",
            "\u001b[2K   \u001b[90m━━━━━━━━━━━━━━━━━━━━━━━━━━━━━━━━━━━━━━━━\u001b[0m \u001b[32m21.1/21.1 MB\u001b[0m \u001b[31m42.3 MB/s\u001b[0m eta \u001b[36m0:00:00\u001b[0m\n",
            "\u001b[?25hInstalling collected packages: nvidia-nvjitlink-cu12, nvidia-curand-cu12, nvidia-cufft-cu12, nvidia-cuda-runtime-cu12, nvidia-cuda-nvrtc-cu12, nvidia-cuda-cupti-cu12, nvidia-cublas-cu12, nvidia-cusparse-cu12, nvidia-cudnn-cu12, nvidia-cusolver-cu12\n",
            "  Attempting uninstall: nvidia-nvjitlink-cu12\n",
            "    Found existing installation: nvidia-nvjitlink-cu12 12.5.82\n",
            "    Uninstalling nvidia-nvjitlink-cu12-12.5.82:\n",
            "      Successfully uninstalled nvidia-nvjitlink-cu12-12.5.82\n",
            "  Attempting uninstall: nvidia-curand-cu12\n",
            "    Found existing installation: nvidia-curand-cu12 10.3.6.82\n",
            "    Uninstalling nvidia-curand-cu12-10.3.6.82:\n",
            "      Successfully uninstalled nvidia-curand-cu12-10.3.6.82\n",
            "  Attempting uninstall: nvidia-cufft-cu12\n",
            "    Found existing installation: nvidia-cufft-cu12 11.2.3.61\n",
            "    Uninstalling nvidia-cufft-cu12-11.2.3.61:\n",
            "      Successfully uninstalled nvidia-cufft-cu12-11.2.3.61\n",
            "  Attempting uninstall: nvidia-cuda-runtime-cu12\n",
            "    Found existing installation: nvidia-cuda-runtime-cu12 12.5.82\n",
            "    Uninstalling nvidia-cuda-runtime-cu12-12.5.82:\n",
            "      Successfully uninstalled nvidia-cuda-runtime-cu12-12.5.82\n",
            "  Attempting uninstall: nvidia-cuda-nvrtc-cu12\n",
            "    Found existing installation: nvidia-cuda-nvrtc-cu12 12.5.82\n",
            "    Uninstalling nvidia-cuda-nvrtc-cu12-12.5.82:\n",
            "      Successfully uninstalled nvidia-cuda-nvrtc-cu12-12.5.82\n",
            "  Attempting uninstall: nvidia-cuda-cupti-cu12\n",
            "    Found existing installation: nvidia-cuda-cupti-cu12 12.5.82\n",
            "    Uninstalling nvidia-cuda-cupti-cu12-12.5.82:\n",
            "      Successfully uninstalled nvidia-cuda-cupti-cu12-12.5.82\n",
            "  Attempting uninstall: nvidia-cublas-cu12\n",
            "    Found existing installation: nvidia-cublas-cu12 12.5.3.2\n",
            "    Uninstalling nvidia-cublas-cu12-12.5.3.2:\n",
            "      Successfully uninstalled nvidia-cublas-cu12-12.5.3.2\n",
            "  Attempting uninstall: nvidia-cusparse-cu12\n",
            "    Found existing installation: nvidia-cusparse-cu12 12.5.1.3\n",
            "    Uninstalling nvidia-cusparse-cu12-12.5.1.3:\n",
            "      Successfully uninstalled nvidia-cusparse-cu12-12.5.1.3\n",
            "  Attempting uninstall: nvidia-cudnn-cu12\n",
            "    Found existing installation: nvidia-cudnn-cu12 9.3.0.75\n",
            "    Uninstalling nvidia-cudnn-cu12-9.3.0.75:\n",
            "      Successfully uninstalled nvidia-cudnn-cu12-9.3.0.75\n",
            "  Attempting uninstall: nvidia-cusolver-cu12\n",
            "    Found existing installation: nvidia-cusolver-cu12 11.6.3.83\n",
            "    Uninstalling nvidia-cusolver-cu12-11.6.3.83:\n",
            "      Successfully uninstalled nvidia-cusolver-cu12-11.6.3.83\n",
            "Successfully installed nvidia-cublas-cu12-12.4.5.8 nvidia-cuda-cupti-cu12-12.4.127 nvidia-cuda-nvrtc-cu12-12.4.127 nvidia-cuda-runtime-cu12-12.4.127 nvidia-cudnn-cu12-9.1.0.70 nvidia-cufft-cu12-11.2.1.3 nvidia-curand-cu12-10.3.5.147 nvidia-cusolver-cu12-11.6.1.9 nvidia-cusparse-cu12-12.3.1.170 nvidia-nvjitlink-cu12-12.4.127\n"
          ]
        }
      ],
      "source": [
        "!apt-get install ffmpeg\n",
        "!pip install numpy scipy moviepy torch torchvision torchaudio"
      ]
    },
    {
      "cell_type": "code",
      "source": [
        "!git clone https://github.com/joonson/syncnet_python.git\n",
        "%cd syncnet_python"
      ],
      "metadata": {
        "colab": {
          "base_uri": "https://localhost:8080/"
        },
        "id": "HXDoJIcterSg",
        "outputId": "29744ce2-a0a4-4b1f-a313-7b6e65724600"
      },
      "execution_count": 2,
      "outputs": [
        {
          "output_type": "stream",
          "name": "stdout",
          "text": [
            "Cloning into 'syncnet_python'...\n",
            "remote: Enumerating objects: 123, done.\u001b[K\n",
            "remote: Counting objects: 100% (48/48), done.\u001b[K\n",
            "remote: Compressing objects: 100% (20/20), done.\u001b[K\n",
            "remote: Total 123 (delta 35), reused 28 (delta 28), pack-reused 75 (from 1)\u001b[K\n",
            "Receiving objects: 100% (123/123), 97.36 KiB | 16.23 MiB/s, done.\n",
            "Resolving deltas: 100% (70/70), done.\n",
            "/content/syncnet_python\n"
          ]
        }
      ]
    },
    {
      "cell_type": "code",
      "source": [
        "!mkdir data\n",
        "!wget \"http://www.robots.ox.ac.uk/~joon/data/syncnet_v2.model\" -O data/syncnet_v2.model"
      ],
      "metadata": {
        "colab": {
          "base_uri": "https://localhost:8080/"
        },
        "id": "QUOEZDFqe1jA",
        "outputId": "29846f87-3571-4122-9ec4-aad5cf416b7d"
      },
      "execution_count": 3,
      "outputs": [
        {
          "output_type": "stream",
          "name": "stdout",
          "text": [
            "--2025-02-26 18:18:50--  http://www.robots.ox.ac.uk/~joon/data/syncnet_v2.model\n",
            "Resolving www.robots.ox.ac.uk (www.robots.ox.ac.uk)... 129.67.94.2\n",
            "Connecting to www.robots.ox.ac.uk (www.robots.ox.ac.uk)|129.67.94.2|:80... connected.\n",
            "HTTP request sent, awaiting response... 301 Moved Permanently\n",
            "Location: https://www.robots.ox.ac.uk/~joon/data/syncnet_v2.model [following]\n",
            "--2025-02-26 18:18:51--  https://www.robots.ox.ac.uk/~joon/data/syncnet_v2.model\n",
            "Connecting to www.robots.ox.ac.uk (www.robots.ox.ac.uk)|129.67.94.2|:443... connected.\n",
            "HTTP request sent, awaiting response... 404 Not Found\n",
            "2025-02-26 18:18:52 ERROR 404: Not Found.\n",
            "\n"
          ]
        }
      ]
    },
    {
      "cell_type": "code",
      "source": [
        "%cd /content/syncnet_python"
      ],
      "metadata": {
        "colab": {
          "base_uri": "https://localhost:8080/"
        },
        "id": "3EMD3drvhF_V",
        "outputId": "c0e7ad44-5575-44fc-cb57-3f541ce49b5e"
      },
      "execution_count": 4,
      "outputs": [
        {
          "output_type": "stream",
          "name": "stdout",
          "text": [
            "/content/syncnet_python\n"
          ]
        }
      ]
    },
    {
      "cell_type": "code",
      "source": [
        "!chmod +x download_model.sh"
      ],
      "metadata": {
        "id": "UrvNQBJGhQ-p"
      },
      "execution_count": 5,
      "outputs": []
    },
    {
      "cell_type": "code",
      "source": [
        "!ls data/\n"
      ],
      "metadata": {
        "colab": {
          "base_uri": "https://localhost:8080/"
        },
        "id": "yr-LqtJyhU90",
        "outputId": "970f3692-aaf2-470f-ec3c-45e03e5d07af"
      },
      "execution_count": 6,
      "outputs": [
        {
          "output_type": "stream",
          "name": "stdout",
          "text": [
            "syncnet_v2.model\n"
          ]
        }
      ]
    },
    {
      "cell_type": "code",
      "source": [
        "from google.colab import files\n",
        "uploaded = files.upload()\n"
      ],
      "metadata": {
        "colab": {
          "base_uri": "https://localhost:8080/",
          "height": 108
        },
        "id": "Xi0X_-2wiFHw",
        "outputId": "558a69b2-9688-47e9-8f75-c47721d97575"
      },
      "execution_count": 7,
      "outputs": [
        {
          "output_type": "display_data",
          "data": {
            "text/plain": [
              "<IPython.core.display.HTML object>"
            ],
            "text/html": [
              "\n",
              "     <input type=\"file\" id=\"files-963caef8-10bc-42ef-9a5c-8932b4bf3687\" name=\"files[]\" multiple disabled\n",
              "        style=\"border:none\" />\n",
              "     <output id=\"result-963caef8-10bc-42ef-9a5c-8932b4bf3687\">\n",
              "      Upload widget is only available when the cell has been executed in the\n",
              "      current browser session. Please rerun this cell to enable.\n",
              "      </output>\n",
              "      <script>// Copyright 2017 Google LLC\n",
              "//\n",
              "// Licensed under the Apache License, Version 2.0 (the \"License\");\n",
              "// you may not use this file except in compliance with the License.\n",
              "// You may obtain a copy of the License at\n",
              "//\n",
              "//      http://www.apache.org/licenses/LICENSE-2.0\n",
              "//\n",
              "// Unless required by applicable law or agreed to in writing, software\n",
              "// distributed under the License is distributed on an \"AS IS\" BASIS,\n",
              "// WITHOUT WARRANTIES OR CONDITIONS OF ANY KIND, either express or implied.\n",
              "// See the License for the specific language governing permissions and\n",
              "// limitations under the License.\n",
              "\n",
              "/**\n",
              " * @fileoverview Helpers for google.colab Python module.\n",
              " */\n",
              "(function(scope) {\n",
              "function span(text, styleAttributes = {}) {\n",
              "  const element = document.createElement('span');\n",
              "  element.textContent = text;\n",
              "  for (const key of Object.keys(styleAttributes)) {\n",
              "    element.style[key] = styleAttributes[key];\n",
              "  }\n",
              "  return element;\n",
              "}\n",
              "\n",
              "// Max number of bytes which will be uploaded at a time.\n",
              "const MAX_PAYLOAD_SIZE = 100 * 1024;\n",
              "\n",
              "function _uploadFiles(inputId, outputId) {\n",
              "  const steps = uploadFilesStep(inputId, outputId);\n",
              "  const outputElement = document.getElementById(outputId);\n",
              "  // Cache steps on the outputElement to make it available for the next call\n",
              "  // to uploadFilesContinue from Python.\n",
              "  outputElement.steps = steps;\n",
              "\n",
              "  return _uploadFilesContinue(outputId);\n",
              "}\n",
              "\n",
              "// This is roughly an async generator (not supported in the browser yet),\n",
              "// where there are multiple asynchronous steps and the Python side is going\n",
              "// to poll for completion of each step.\n",
              "// This uses a Promise to block the python side on completion of each step,\n",
              "// then passes the result of the previous step as the input to the next step.\n",
              "function _uploadFilesContinue(outputId) {\n",
              "  const outputElement = document.getElementById(outputId);\n",
              "  const steps = outputElement.steps;\n",
              "\n",
              "  const next = steps.next(outputElement.lastPromiseValue);\n",
              "  return Promise.resolve(next.value.promise).then((value) => {\n",
              "    // Cache the last promise value to make it available to the next\n",
              "    // step of the generator.\n",
              "    outputElement.lastPromiseValue = value;\n",
              "    return next.value.response;\n",
              "  });\n",
              "}\n",
              "\n",
              "/**\n",
              " * Generator function which is called between each async step of the upload\n",
              " * process.\n",
              " * @param {string} inputId Element ID of the input file picker element.\n",
              " * @param {string} outputId Element ID of the output display.\n",
              " * @return {!Iterable<!Object>} Iterable of next steps.\n",
              " */\n",
              "function* uploadFilesStep(inputId, outputId) {\n",
              "  const inputElement = document.getElementById(inputId);\n",
              "  inputElement.disabled = false;\n",
              "\n",
              "  const outputElement = document.getElementById(outputId);\n",
              "  outputElement.innerHTML = '';\n",
              "\n",
              "  const pickedPromise = new Promise((resolve) => {\n",
              "    inputElement.addEventListener('change', (e) => {\n",
              "      resolve(e.target.files);\n",
              "    });\n",
              "  });\n",
              "\n",
              "  const cancel = document.createElement('button');\n",
              "  inputElement.parentElement.appendChild(cancel);\n",
              "  cancel.textContent = 'Cancel upload';\n",
              "  const cancelPromise = new Promise((resolve) => {\n",
              "    cancel.onclick = () => {\n",
              "      resolve(null);\n",
              "    };\n",
              "  });\n",
              "\n",
              "  // Wait for the user to pick the files.\n",
              "  const files = yield {\n",
              "    promise: Promise.race([pickedPromise, cancelPromise]),\n",
              "    response: {\n",
              "      action: 'starting',\n",
              "    }\n",
              "  };\n",
              "\n",
              "  cancel.remove();\n",
              "\n",
              "  // Disable the input element since further picks are not allowed.\n",
              "  inputElement.disabled = true;\n",
              "\n",
              "  if (!files) {\n",
              "    return {\n",
              "      response: {\n",
              "        action: 'complete',\n",
              "      }\n",
              "    };\n",
              "  }\n",
              "\n",
              "  for (const file of files) {\n",
              "    const li = document.createElement('li');\n",
              "    li.append(span(file.name, {fontWeight: 'bold'}));\n",
              "    li.append(span(\n",
              "        `(${file.type || 'n/a'}) - ${file.size} bytes, ` +\n",
              "        `last modified: ${\n",
              "            file.lastModifiedDate ? file.lastModifiedDate.toLocaleDateString() :\n",
              "                                    'n/a'} - `));\n",
              "    const percent = span('0% done');\n",
              "    li.appendChild(percent);\n",
              "\n",
              "    outputElement.appendChild(li);\n",
              "\n",
              "    const fileDataPromise = new Promise((resolve) => {\n",
              "      const reader = new FileReader();\n",
              "      reader.onload = (e) => {\n",
              "        resolve(e.target.result);\n",
              "      };\n",
              "      reader.readAsArrayBuffer(file);\n",
              "    });\n",
              "    // Wait for the data to be ready.\n",
              "    let fileData = yield {\n",
              "      promise: fileDataPromise,\n",
              "      response: {\n",
              "        action: 'continue',\n",
              "      }\n",
              "    };\n",
              "\n",
              "    // Use a chunked sending to avoid message size limits. See b/62115660.\n",
              "    let position = 0;\n",
              "    do {\n",
              "      const length = Math.min(fileData.byteLength - position, MAX_PAYLOAD_SIZE);\n",
              "      const chunk = new Uint8Array(fileData, position, length);\n",
              "      position += length;\n",
              "\n",
              "      const base64 = btoa(String.fromCharCode.apply(null, chunk));\n",
              "      yield {\n",
              "        response: {\n",
              "          action: 'append',\n",
              "          file: file.name,\n",
              "          data: base64,\n",
              "        },\n",
              "      };\n",
              "\n",
              "      let percentDone = fileData.byteLength === 0 ?\n",
              "          100 :\n",
              "          Math.round((position / fileData.byteLength) * 100);\n",
              "      percent.textContent = `${percentDone}% done`;\n",
              "\n",
              "    } while (position < fileData.byteLength);\n",
              "  }\n",
              "\n",
              "  // All done.\n",
              "  yield {\n",
              "    response: {\n",
              "      action: 'complete',\n",
              "    }\n",
              "  };\n",
              "}\n",
              "\n",
              "scope.google = scope.google || {};\n",
              "scope.google.colab = scope.google.colab || {};\n",
              "scope.google.colab._files = {\n",
              "  _uploadFiles,\n",
              "  _uploadFilesContinue,\n",
              "};\n",
              "})(self);\n",
              "</script> "
            ]
          },
          "metadata": {}
        },
        {
          "output_type": "stream",
          "name": "stdout",
          "text": [
            "Saving yubi photo.png to yubi photo.png\n",
            "Saving yubi voice.mp3 to yubi voice.mp3\n"
          ]
        }
      ]
    },
    {
      "cell_type": "code",
      "source": [
        "import os\n",
        "\n",
        "# Rename image file\n",
        "os.rename(\"yubi photo.png\", \"input_image.png\")  # Keeping PNG format\n",
        "\n",
        "# Rename audio file\n",
        "os.rename(\"yubi voice.mp3\", \"input_audio.mp3\")\n"
      ],
      "metadata": {
        "id": "-O4ZSRErjsCZ"
      },
      "execution_count": 10,
      "outputs": []
    },
    {
      "cell_type": "code",
      "source": [
        "!ffmpeg -i input_audio.mp3 -ar 16000 -ac 1 -y input_audio.wav\n"
      ],
      "metadata": {
        "colab": {
          "base_uri": "https://localhost:8080/"
        },
        "id": "0wGUiuArkP-I",
        "outputId": "4412cea9-44fa-450c-cb56-dff45fcca2c8"
      },
      "execution_count": 11,
      "outputs": [
        {
          "output_type": "stream",
          "name": "stdout",
          "text": [
            "ffmpeg version 4.4.2-0ubuntu0.22.04.1 Copyright (c) 2000-2021 the FFmpeg developers\n",
            "  built with gcc 11 (Ubuntu 11.2.0-19ubuntu1)\n",
            "  configuration: --prefix=/usr --extra-version=0ubuntu0.22.04.1 --toolchain=hardened --libdir=/usr/lib/x86_64-linux-gnu --incdir=/usr/include/x86_64-linux-gnu --arch=amd64 --enable-gpl --disable-stripping --enable-gnutls --enable-ladspa --enable-libaom --enable-libass --enable-libbluray --enable-libbs2b --enable-libcaca --enable-libcdio --enable-libcodec2 --enable-libdav1d --enable-libflite --enable-libfontconfig --enable-libfreetype --enable-libfribidi --enable-libgme --enable-libgsm --enable-libjack --enable-libmp3lame --enable-libmysofa --enable-libopenjpeg --enable-libopenmpt --enable-libopus --enable-libpulse --enable-librabbitmq --enable-librubberband --enable-libshine --enable-libsnappy --enable-libsoxr --enable-libspeex --enable-libsrt --enable-libssh --enable-libtheora --enable-libtwolame --enable-libvidstab --enable-libvorbis --enable-libvpx --enable-libwebp --enable-libx265 --enable-libxml2 --enable-libxvid --enable-libzimg --enable-libzmq --enable-libzvbi --enable-lv2 --enable-omx --enable-openal --enable-opencl --enable-opengl --enable-sdl2 --enable-pocketsphinx --enable-librsvg --enable-libmfx --enable-libdc1394 --enable-libdrm --enable-libiec61883 --enable-chromaprint --enable-frei0r --enable-libx264 --enable-shared\n",
            "  libavutil      56. 70.100 / 56. 70.100\n",
            "  libavcodec     58.134.100 / 58.134.100\n",
            "  libavformat    58. 76.100 / 58. 76.100\n",
            "  libavdevice    58. 13.100 / 58. 13.100\n",
            "  libavfilter     7.110.100 /  7.110.100\n",
            "  libswscale      5.  9.100 /  5.  9.100\n",
            "  libswresample   3.  9.100 /  3.  9.100\n",
            "  libpostproc    55.  9.100 / 55.  9.100\n",
            "\u001b[0;35m[mp3 @ 0x5ad3c5a93000] \u001b[0m\u001b[0;33mEstimating duration from bitrate, this may be inaccurate\n",
            "\u001b[0mInput #0, mp3, from 'input_audio.mp3':\n",
            "  Duration: 00:00:42.94, start: 0.000000, bitrate: 48 kb/s\n",
            "  Stream #0:0: Audio: mp3, 24000 Hz, mono, fltp, 48 kb/s\n",
            "Stream mapping:\n",
            "  Stream #0:0 -> #0:0 (mp3 (mp3float) -> pcm_s16le (native))\n",
            "Press [q] to stop, [?] for help\n",
            "Output #0, wav, to 'input_audio.wav':\n",
            "  Metadata:\n",
            "    ISFT            : Lavf58.76.100\n",
            "  Stream #0:0: Audio: pcm_s16le ([1][0][0][0] / 0x0001), 16000 Hz, mono, s16, 256 kb/s\n",
            "    Metadata:\n",
            "      encoder         : Lavc58.134.100 pcm_s16le\n",
            "size=       1kB time=00:00:00.00 bitrate=N/A speed=N/A    \r\u001b[0;36m[mp3float @ 0x5ad3c5a988c0] \u001b[0moverread, skip -7 enddists: -2 -2\n",
            "\u001b[0;36m[mp3float @ 0x5ad3c5a988c0] \u001b[0moverread, skip -7 enddists: -5 -5\n",
            "\u001b[0;36m[mp3float @ 0x5ad3c5a988c0] \u001b[0moverread, skip -7 enddists: -1 -1\n",
            "\u001b[0;36m[mp3float @ 0x5ad3c5a988c0] \u001b[0moverread, skip -7 enddists: -6 -6\n",
            "\u001b[0;36m[mp3float @ 0x5ad3c5a988c0] \u001b[0moverread, skip -6 enddists: -2 -2\n",
            "size=    1342kB time=00:00:42.93 bitrate= 256.0kbits/s speed= 590x    \n",
            "video:0kB audio:1342kB subtitle:0kB other streams:0kB global headers:0kB muxing overhead: 0.005677%\n"
          ]
        }
      ]
    },
    {
      "cell_type": "code",
      "source": [
        "!ffmpeg -loop 1 -i input_image.png -c:v libx264 -t 10 -pix_fmt yuv420p input_video.mp4\n"
      ],
      "metadata": {
        "colab": {
          "base_uri": "https://localhost:8080/"
        },
        "id": "ei2NwxuukTz8",
        "outputId": "7a88d594-9202-4fc9-eb17-1dfae9b0cbde"
      },
      "execution_count": 12,
      "outputs": [
        {
          "output_type": "stream",
          "name": "stdout",
          "text": [
            "ffmpeg version 4.4.2-0ubuntu0.22.04.1 Copyright (c) 2000-2021 the FFmpeg developers\n",
            "  built with gcc 11 (Ubuntu 11.2.0-19ubuntu1)\n",
            "  configuration: --prefix=/usr --extra-version=0ubuntu0.22.04.1 --toolchain=hardened --libdir=/usr/lib/x86_64-linux-gnu --incdir=/usr/include/x86_64-linux-gnu --arch=amd64 --enable-gpl --disable-stripping --enable-gnutls --enable-ladspa --enable-libaom --enable-libass --enable-libbluray --enable-libbs2b --enable-libcaca --enable-libcdio --enable-libcodec2 --enable-libdav1d --enable-libflite --enable-libfontconfig --enable-libfreetype --enable-libfribidi --enable-libgme --enable-libgsm --enable-libjack --enable-libmp3lame --enable-libmysofa --enable-libopenjpeg --enable-libopenmpt --enable-libopus --enable-libpulse --enable-librabbitmq --enable-librubberband --enable-libshine --enable-libsnappy --enable-libsoxr --enable-libspeex --enable-libsrt --enable-libssh --enable-libtheora --enable-libtwolame --enable-libvidstab --enable-libvorbis --enable-libvpx --enable-libwebp --enable-libx265 --enable-libxml2 --enable-libxvid --enable-libzimg --enable-libzmq --enable-libzvbi --enable-lv2 --enable-omx --enable-openal --enable-opencl --enable-opengl --enable-sdl2 --enable-pocketsphinx --enable-librsvg --enable-libmfx --enable-libdc1394 --enable-libdrm --enable-libiec61883 --enable-chromaprint --enable-frei0r --enable-libx264 --enable-shared\n",
            "  libavutil      56. 70.100 / 56. 70.100\n",
            "  libavcodec     58.134.100 / 58.134.100\n",
            "  libavformat    58. 76.100 / 58. 76.100\n",
            "  libavdevice    58. 13.100 / 58. 13.100\n",
            "  libavfilter     7.110.100 /  7.110.100\n",
            "  libswscale      5.  9.100 /  5.  9.100\n",
            "  libswresample   3.  9.100 /  3.  9.100\n",
            "  libpostproc    55.  9.100 / 55.  9.100\n",
            "Input #0, png_pipe, from 'input_image.png':\n",
            "  Duration: N/A, bitrate: N/A\n",
            "  Stream #0:0: Video: png, rgba(pc), 581x581 [SAR 4724:4724 DAR 1:1], 25 fps, 25 tbr, 25 tbn, 25 tbc\n",
            "Stream mapping:\n",
            "  Stream #0:0 -> #0:0 (png (native) -> h264 (libx264))\n",
            "Press [q] to stop, [?] for help\n",
            "\u001b[1;36m[libx264 @ 0x5a9db893de80] \u001b[0m\u001b[1;31mwidth not divisible by 2 (581x581)\n",
            "\u001b[0m\u001b[1;31mError initializing output stream 0:0 -- Error while opening encoder for output stream #0:0 - maybe incorrect parameters such as bit_rate, rate, width or height\n",
            "\u001b[0mConversion failed!\n"
          ]
        }
      ]
    },
    {
      "cell_type": "code",
      "source": [
        "from PIL import Image\n",
        "\n",
        "# Open the image\n",
        "img = Image.open(\"input_image.png\")\n",
        "\n",
        "# Resize to a resolution divisible by 2 (e.g., 580x580)\n",
        "img = img.resize((580, 580))\n",
        "\n",
        "# Save it back\n",
        "img.save(\"input_image_resized.png\")\n"
      ],
      "metadata": {
        "id": "IBFCjU80kpou"
      },
      "execution_count": 13,
      "outputs": []
    },
    {
      "cell_type": "code",
      "source": [
        "!ffmpeg -loop 1 -i input_image_resized.png -c:v libx264 -t 10 -pix_fmt yuv420p input_video.mp4\n"
      ],
      "metadata": {
        "colab": {
          "base_uri": "https://localhost:8080/"
        },
        "id": "qWG-nd33krbe",
        "outputId": "b4979973-7c29-4dcf-d293-0fffa9425d54"
      },
      "execution_count": 14,
      "outputs": [
        {
          "output_type": "stream",
          "name": "stdout",
          "text": [
            "ffmpeg version 4.4.2-0ubuntu0.22.04.1 Copyright (c) 2000-2021 the FFmpeg developers\n",
            "  built with gcc 11 (Ubuntu 11.2.0-19ubuntu1)\n",
            "  configuration: --prefix=/usr --extra-version=0ubuntu0.22.04.1 --toolchain=hardened --libdir=/usr/lib/x86_64-linux-gnu --incdir=/usr/include/x86_64-linux-gnu --arch=amd64 --enable-gpl --disable-stripping --enable-gnutls --enable-ladspa --enable-libaom --enable-libass --enable-libbluray --enable-libbs2b --enable-libcaca --enable-libcdio --enable-libcodec2 --enable-libdav1d --enable-libflite --enable-libfontconfig --enable-libfreetype --enable-libfribidi --enable-libgme --enable-libgsm --enable-libjack --enable-libmp3lame --enable-libmysofa --enable-libopenjpeg --enable-libopenmpt --enable-libopus --enable-libpulse --enable-librabbitmq --enable-librubberband --enable-libshine --enable-libsnappy --enable-libsoxr --enable-libspeex --enable-libsrt --enable-libssh --enable-libtheora --enable-libtwolame --enable-libvidstab --enable-libvorbis --enable-libvpx --enable-libwebp --enable-libx265 --enable-libxml2 --enable-libxvid --enable-libzimg --enable-libzmq --enable-libzvbi --enable-lv2 --enable-omx --enable-openal --enable-opencl --enable-opengl --enable-sdl2 --enable-pocketsphinx --enable-librsvg --enable-libmfx --enable-libdc1394 --enable-libdrm --enable-libiec61883 --enable-chromaprint --enable-frei0r --enable-libx264 --enable-shared\n",
            "  libavutil      56. 70.100 / 56. 70.100\n",
            "  libavcodec     58.134.100 / 58.134.100\n",
            "  libavformat    58. 76.100 / 58. 76.100\n",
            "  libavdevice    58. 13.100 / 58. 13.100\n",
            "  libavfilter     7.110.100 /  7.110.100\n",
            "  libswscale      5.  9.100 /  5.  9.100\n",
            "  libswresample   3.  9.100 /  3.  9.100\n",
            "  libpostproc    55.  9.100 / 55.  9.100\n",
            "Input #0, png_pipe, from 'input_image_resized.png':\n",
            "  Duration: N/A, bitrate: N/A\n",
            "  Stream #0:0: Video: png, rgba(pc), 580x580, 25 fps, 25 tbr, 25 tbn, 25 tbc\n",
            "File 'input_video.mp4' already exists. Overwrite? [y/N] y\n",
            "Stream mapping:\n",
            "  Stream #0:0 -> #0:0 (png (native) -> h264 (libx264))\n",
            "Press [q] to stop, [?] for help\n",
            "\u001b[1;36m[libx264 @ 0x59021cbe9140] \u001b[0musing cpu capabilities: MMX2 SSE2Fast SSSE3 SSE4.2 AVX FMA3 BMI2 AVX2 AVX512\n",
            "\u001b[1;36m[libx264 @ 0x59021cbe9140] \u001b[0mprofile High, level 3.0, 4:2:0, 8-bit\n",
            "\u001b[1;36m[libx264 @ 0x59021cbe9140] \u001b[0m264 - core 163 r3060 5db6aa6 - H.264/MPEG-4 AVC codec - Copyleft 2003-2021 - http://www.videolan.org/x264.html - options: cabac=1 ref=3 deblock=1:0:0 analyse=0x3:0x113 me=hex subme=7 psy=1 psy_rd=1.00:0.00 mixed_ref=1 me_range=16 chroma_me=1 trellis=1 8x8dct=1 cqm=0 deadzone=21,11 fast_pskip=1 chroma_qp_offset=-2 threads=3 lookahead_threads=1 sliced_threads=0 nr=0 decimate=1 interlaced=0 bluray_compat=0 constrained_intra=0 bframes=3 b_pyramid=2 b_adapt=1 b_bias=0 direct=1 weightb=1 open_gop=0 weightp=2 keyint=250 keyint_min=25 scenecut=40 intra_refresh=0 rc_lookahead=40 rc=crf mbtree=1 crf=23.0 qcomp=0.60 qpmin=0 qpmax=69 qpstep=4 ip_ratio=1.40 aq=1:1.00\n",
            "Output #0, mp4, to 'input_video.mp4':\n",
            "  Metadata:\n",
            "    encoder         : Lavf58.76.100\n",
            "  Stream #0:0: Video: h264 (avc1 / 0x31637661), yuv420p(tv, progressive), 580x580, q=2-31, 25 fps, 12800 tbn\n",
            "    Metadata:\n",
            "      encoder         : Lavc58.134.100 libx264\n",
            "    Side data:\n",
            "      cpb: bitrate max/min/avg: 0/0/0 buffer size: 0 vbv_delay: N/A\n",
            "frame=  250 fps= 90 q=-1.0 Lsize=      39kB time=00:00:09.88 bitrate=  32.2kbits/s speed=3.54x    \n",
            "video:35kB audio:0kB subtitle:0kB other streams:0kB global headers:0kB muxing overhead: 10.757272%\n",
            "\u001b[1;36m[libx264 @ 0x59021cbe9140] \u001b[0mframe I:1     Avg QP:14.77  size: 21783\n",
            "\u001b[1;36m[libx264 @ 0x59021cbe9140] \u001b[0mframe P:63    Avg QP:14.71  size:   108\n",
            "\u001b[1;36m[libx264 @ 0x59021cbe9140] \u001b[0mframe B:186   Avg QP:29.33  size:    35\n",
            "\u001b[1;36m[libx264 @ 0x59021cbe9140] \u001b[0mconsecutive B-frames:  0.8%  0.0%  0.0% 99.2%\n",
            "\u001b[1;36m[libx264 @ 0x59021cbe9140] \u001b[0mmb I  I16..4: 14.2% 46.3% 39.5%\n",
            "\u001b[1;36m[libx264 @ 0x59021cbe9140] \u001b[0mmb P  I16..4:  0.0%  0.0%  0.0%  P16..4:  2.1%  0.1%  0.1%  0.0%  0.0%    skip:97.7%\n",
            "\u001b[1;36m[libx264 @ 0x59021cbe9140] \u001b[0mmb B  I16..4:  0.0%  0.0%  0.0%  B16..8:  0.8%  0.0%  0.0%  direct: 0.0%  skip:99.2%  L0:30.2% L1:69.8% BI: 0.0%\n",
            "\u001b[1;36m[libx264 @ 0x59021cbe9140] \u001b[0m8x8 transform intra:46.4% inter:92.5%\n",
            "\u001b[1;36m[libx264 @ 0x59021cbe9140] \u001b[0mcoded y,uvDC,uvAC intra: 58.7% 78.8% 69.2% inter: 0.0% 0.5% 0.0%\n",
            "\u001b[1;36m[libx264 @ 0x59021cbe9140] \u001b[0mi16 v,h,dc,p: 62% 28%  5%  5%\n",
            "\u001b[1;36m[libx264 @ 0x59021cbe9140] \u001b[0mi8 v,h,dc,ddl,ddr,vr,hd,vl,hu: 44% 16% 14%  4%  4%  5%  3%  7%  3%\n",
            "\u001b[1;36m[libx264 @ 0x59021cbe9140] \u001b[0mi4 v,h,dc,ddl,ddr,vr,hd,vl,hu: 54% 16%  7%  4%  5%  6%  3%  5%  2%\n",
            "\u001b[1;36m[libx264 @ 0x59021cbe9140] \u001b[0mi8c dc,h,v,p: 45% 16% 35%  4%\n",
            "\u001b[1;36m[libx264 @ 0x59021cbe9140] \u001b[0mWeighted P-Frames: Y:0.0% UV:0.0%\n",
            "\u001b[1;36m[libx264 @ 0x59021cbe9140] \u001b[0mref P L0: 95.7%  0.0%  3.7%  0.6%\n",
            "\u001b[1;36m[libx264 @ 0x59021cbe9140] \u001b[0mref B L0: 12.9% 87.1%\n",
            "\u001b[1;36m[libx264 @ 0x59021cbe9140] \u001b[0mref B L1: 97.0%  3.0%\n",
            "\u001b[1;36m[libx264 @ 0x59021cbe9140] \u001b[0mkb/s:28.16\n"
          ]
        }
      ]
    },
    {
      "cell_type": "code",
      "source": [
        "!pip install python_speech_features"
      ],
      "metadata": {
        "colab": {
          "base_uri": "https://localhost:8080/"
        },
        "id": "nIcbyUCvk8cd",
        "outputId": "6a455abb-b6fe-4158-d89d-475c4d7cde61"
      },
      "execution_count": 16,
      "outputs": [
        {
          "output_type": "stream",
          "name": "stdout",
          "text": [
            "Collecting python_speech_features\n",
            "  Downloading python_speech_features-0.6.tar.gz (5.6 kB)\n",
            "  Preparing metadata (setup.py) ... \u001b[?25l\u001b[?25hdone\n",
            "Building wheels for collected packages: python_speech_features\n",
            "  Building wheel for python_speech_features (setup.py) ... \u001b[?25l\u001b[?25hdone\n",
            "  Created wheel for python_speech_features: filename=python_speech_features-0.6-py3-none-any.whl size=5868 sha256=ddadee3c98e68cf7c384f9073fd1e5819df379f8033e505afb0f28e8c05bb96a\n",
            "  Stored in directory: /root/.cache/pip/wheels/37/01/19/e6c69a32684ab7b2e3ea4985a571d810cf055c72600e7f9f17\n",
            "Successfully built python_speech_features\n",
            "Installing collected packages: python_speech_features\n",
            "Successfully installed python_speech_features-0.6\n"
          ]
        }
      ]
    },
    {
      "cell_type": "code",
      "source": [
        "!python run_syncnet.py --vidfn input_video.mp4 --wavfn input_audio.wav --outdir output/"
      ],
      "metadata": {
        "colab": {
          "base_uri": "https://localhost:8080/"
        },
        "id": "cdIWm9StlMoe",
        "outputId": "2db281dc-de8b-45d6-f7e6-dff0e7649eab"
      },
      "execution_count": 17,
      "outputs": [
        {
          "output_type": "stream",
          "name": "stdout",
          "text": [
            "usage: run_syncnet.py [-h] [--initial_model INITIAL_MODEL] [--batch_size BATCH_SIZE]\n",
            "                      [--vshift VSHIFT] [--data_dir DATA_DIR] [--videofile VIDEOFILE]\n",
            "                      [--reference REFERENCE]\n",
            "run_syncnet.py: error: unrecognized arguments: --vidfn input_video.mp4 --wavfn input_audio.wav --outdir output/\n"
          ]
        }
      ]
    },
    {
      "cell_type": "code",
      "source": [
        "!python run_syncnet.py --videofile input_video.mp4 --reference input_audio.wav --data_dir output/"
      ],
      "metadata": {
        "colab": {
          "base_uri": "https://localhost:8080/"
        },
        "id": "E2cpE1YBlY8g",
        "outputId": "8132b059-9533-4043-b75f-7bc72d359fca"
      },
      "execution_count": 18,
      "outputs": [
        {
          "output_type": "stream",
          "name": "stdout",
          "text": [
            "/content/syncnet_python/SyncNetInstance.py:202: FutureWarning: You are using `torch.load` with `weights_only=False` (the current default value), which uses the default pickle module implicitly. It is possible to construct malicious pickle data which will execute arbitrary code during unpickling (See https://github.com/pytorch/pytorch/blob/main/SECURITY.md#untrusted-models for more details). In a future release, the default value for `weights_only` will be flipped to `True`. This limits the functions that could be executed during unpickling. Arbitrary objects will no longer be allowed to be loaded via this mode unless they are explicitly allowlisted by the user via `torch.serialization.add_safe_globals`. We recommend you start setting `weights_only=True` for any use case where you don't have full control of the loaded file. Please open an issue on GitHub for any issues related to this experimental feature.\n",
            "  loaded_state = torch.load(path, map_location=lambda storage, loc: storage);\n",
            "Traceback (most recent call last):\n",
            "  File \"/content/syncnet_python/run_syncnet.py\", line 29, in <module>\n",
            "    s.loadParameters(opt.initial_model);\n",
            "    ^^^^^^^^^^^^^^^^^^^^^^^^^^^^^^^^^^^\n",
            "  File \"/content/syncnet_python/SyncNetInstance.py\", line 202, in loadParameters\n",
            "    loaded_state = torch.load(path, map_location=lambda storage, loc: storage);\n",
            "                   ^^^^^^^^^^^^^^^^^^^^^^^^^^^^^^^^^^^^^^^^^^^^^^^^^^^^^^^^^^^\n",
            "  File \"/usr/local/lib/python3.11/dist-packages/torch/serialization.py\", line 1384, in load\n",
            "    return _legacy_load(\n",
            "           ^^^^^^^^^^^^^\n",
            "  File \"/usr/local/lib/python3.11/dist-packages/torch/serialization.py\", line 1628, in _legacy_load\n",
            "    magic_number = pickle_module.load(f, **pickle_load_args)\n",
            "                   ^^^^^^^^^^^^^^^^^^^^^^^^^^^^^^^^^^^^^^^^^\n",
            "EOFError: Ran out of input\n"
          ]
        }
      ]
    },
    {
      "cell_type": "code",
      "source": [
        "!ls data/"
      ],
      "metadata": {
        "colab": {
          "base_uri": "https://localhost:8080/"
        },
        "id": "5SEyNmjeliLY",
        "outputId": "25a3979f-d57f-4209-f37a-18d840866d2e"
      },
      "execution_count": 19,
      "outputs": [
        {
          "output_type": "stream",
          "name": "stdout",
          "text": [
            "syncnet_v2.model\n"
          ]
        }
      ]
    },
    {
      "cell_type": "code",
      "source": [
        "!python run_syncnet.py --videofile input_video.mp4 --reference input_audio.wav --data_dir output/"
      ],
      "metadata": {
        "colab": {
          "base_uri": "https://localhost:8080/"
        },
        "id": "PKfaekUKl7RM",
        "outputId": "fcf1d484-dda2-4676-9ddc-d3b3c0600de4"
      },
      "execution_count": 20,
      "outputs": [
        {
          "output_type": "stream",
          "name": "stdout",
          "text": [
            "/content/syncnet_python/SyncNetInstance.py:202: FutureWarning: You are using `torch.load` with `weights_only=False` (the current default value), which uses the default pickle module implicitly. It is possible to construct malicious pickle data which will execute arbitrary code during unpickling (See https://github.com/pytorch/pytorch/blob/main/SECURITY.md#untrusted-models for more details). In a future release, the default value for `weights_only` will be flipped to `True`. This limits the functions that could be executed during unpickling. Arbitrary objects will no longer be allowed to be loaded via this mode unless they are explicitly allowlisted by the user via `torch.serialization.add_safe_globals`. We recommend you start setting `weights_only=True` for any use case where you don't have full control of the loaded file. Please open an issue on GitHub for any issues related to this experimental feature.\n",
            "  loaded_state = torch.load(path, map_location=lambda storage, loc: storage);\n",
            "Traceback (most recent call last):\n",
            "  File \"/content/syncnet_python/run_syncnet.py\", line 29, in <module>\n",
            "    s.loadParameters(opt.initial_model);\n",
            "    ^^^^^^^^^^^^^^^^^^^^^^^^^^^^^^^^^^^\n",
            "  File \"/content/syncnet_python/SyncNetInstance.py\", line 202, in loadParameters\n",
            "    loaded_state = torch.load(path, map_location=lambda storage, loc: storage);\n",
            "                   ^^^^^^^^^^^^^^^^^^^^^^^^^^^^^^^^^^^^^^^^^^^^^^^^^^^^^^^^^^^\n",
            "  File \"/usr/local/lib/python3.11/dist-packages/torch/serialization.py\", line 1384, in load\n",
            "    return _legacy_load(\n",
            "           ^^^^^^^^^^^^^\n",
            "  File \"/usr/local/lib/python3.11/dist-packages/torch/serialization.py\", line 1628, in _legacy_load\n",
            "    magic_number = pickle_module.load(f, **pickle_load_args)\n",
            "                   ^^^^^^^^^^^^^^^^^^^^^^^^^^^^^^^^^^^^^^^^^\n",
            "EOFError: Ran out of input\n"
          ]
        }
      ]
    },
    {
      "cell_type": "code",
      "source": [
        "!rm -rf data/syncnet_v2.model\n"
      ],
      "metadata": {
        "id": "arSZhqS1mI88"
      },
      "execution_count": 22,
      "outputs": []
    },
    {
      "cell_type": "code",
      "source": [
        "!wget \"6_SyncNet/syncnet_v2.model\" -O data/syncnet_v2.model\n"
      ],
      "metadata": {
        "colab": {
          "base_uri": "https://localhost:8080/"
        },
        "id": "kbSRrkcUnZZu",
        "outputId": "10c2b17a-d4e0-4402-e5ec-00a3e9eb3856"
      },
      "execution_count": 27,
      "outputs": [
        {
          "output_type": "stream",
          "name": "stdout",
          "text": [
            "--2025-02-26 18:59:13--  http://6_syncnet/syncnet_v2.model\n",
            "Resolving 6_syncnet (6_syncnet)... failed: Name or service not known.\n",
            "wget: unable to resolve host address ‘6_syncnet’\n"
          ]
        }
      ]
    },
    {
      "cell_type": "code",
      "source": [
        "!ls -lh data/\n"
      ],
      "metadata": {
        "colab": {
          "base_uri": "https://localhost:8080/"
        },
        "id": "UJWFxPZPnoi8",
        "outputId": "9a852806-073f-4ab3-cc4e-162f7ad0457f"
      },
      "execution_count": 24,
      "outputs": [
        {
          "output_type": "stream",
          "name": "stdout",
          "text": [
            "total 48K\n",
            "-rw-r--r-- 1 root root 45K Feb 26 18:56 syncnet_v2.model\n"
          ]
        }
      ]
    },
    {
      "cell_type": "code",
      "source": [
        "!python run_syncnet.py --videofile input_video.mp4 --reference input_audio.wav --data_dir output/\n"
      ],
      "metadata": {
        "colab": {
          "base_uri": "https://localhost:8080/"
        },
        "id": "knABf3zPnuSv",
        "outputId": "669da4ef-0ab7-45f5-e27c-dadab460b0e2"
      },
      "execution_count": 25,
      "outputs": [
        {
          "output_type": "stream",
          "name": "stdout",
          "text": [
            "/content/syncnet_python/SyncNetInstance.py:202: FutureWarning: You are using `torch.load` with `weights_only=False` (the current default value), which uses the default pickle module implicitly. It is possible to construct malicious pickle data which will execute arbitrary code during unpickling (See https://github.com/pytorch/pytorch/blob/main/SECURITY.md#untrusted-models for more details). In a future release, the default value for `weights_only` will be flipped to `True`. This limits the functions that could be executed during unpickling. Arbitrary objects will no longer be allowed to be loaded via this mode unless they are explicitly allowlisted by the user via `torch.serialization.add_safe_globals`. We recommend you start setting `weights_only=True` for any use case where you don't have full control of the loaded file. Please open an issue on GitHub for any issues related to this experimental feature.\n",
            "  loaded_state = torch.load(path, map_location=lambda storage, loc: storage);\n",
            "Traceback (most recent call last):\n",
            "  File \"/content/syncnet_python/run_syncnet.py\", line 29, in <module>\n",
            "    s.loadParameters(opt.initial_model);\n",
            "    ^^^^^^^^^^^^^^^^^^^^^^^^^^^^^^^^^^^\n",
            "  File \"/content/syncnet_python/SyncNetInstance.py\", line 202, in loadParameters\n",
            "    loaded_state = torch.load(path, map_location=lambda storage, loc: storage);\n",
            "                   ^^^^^^^^^^^^^^^^^^^^^^^^^^^^^^^^^^^^^^^^^^^^^^^^^^^^^^^^^^^\n",
            "  File \"/usr/local/lib/python3.11/dist-packages/torch/serialization.py\", line 1384, in load\n",
            "    return _legacy_load(\n",
            "           ^^^^^^^^^^^^^\n",
            "  File \"/usr/local/lib/python3.11/dist-packages/torch/serialization.py\", line 1628, in _legacy_load\n",
            "    magic_number = pickle_module.load(f, **pickle_load_args)\n",
            "                   ^^^^^^^^^^^^^^^^^^^^^^^^^^^^^^^^^^^^^^^^^\n",
            "_pickle.UnpicklingError: invalid load key, '<'.\n"
          ]
        }
      ]
    },
    {
      "cell_type": "code",
      "source": [
        "!rm -rf data/syncnet_v2.model\n"
      ],
      "metadata": {
        "id": "5XZ5IKyHn_5E"
      },
      "execution_count": 26,
      "outputs": []
    },
    {
      "cell_type": "code",
      "source": [
        "from google.colab import files\n",
        "uploaded = files.upload()\n"
      ],
      "metadata": {
        "colab": {
          "base_uri": "https://localhost:8080/",
          "height": 73
        },
        "id": "9JMpw5d_oZHE",
        "outputId": "cc306cc8-3a40-4123-9f1f-1d916bd61336"
      },
      "execution_count": 28,
      "outputs": [
        {
          "output_type": "display_data",
          "data": {
            "text/plain": [
              "<IPython.core.display.HTML object>"
            ],
            "text/html": [
              "\n",
              "     <input type=\"file\" id=\"files-5d66c80e-d830-4a51-b8cf-815b3647ef5f\" name=\"files[]\" multiple disabled\n",
              "        style=\"border:none\" />\n",
              "     <output id=\"result-5d66c80e-d830-4a51-b8cf-815b3647ef5f\">\n",
              "      Upload widget is only available when the cell has been executed in the\n",
              "      current browser session. Please rerun this cell to enable.\n",
              "      </output>\n",
              "      <script>// Copyright 2017 Google LLC\n",
              "//\n",
              "// Licensed under the Apache License, Version 2.0 (the \"License\");\n",
              "// you may not use this file except in compliance with the License.\n",
              "// You may obtain a copy of the License at\n",
              "//\n",
              "//      http://www.apache.org/licenses/LICENSE-2.0\n",
              "//\n",
              "// Unless required by applicable law or agreed to in writing, software\n",
              "// distributed under the License is distributed on an \"AS IS\" BASIS,\n",
              "// WITHOUT WARRANTIES OR CONDITIONS OF ANY KIND, either express or implied.\n",
              "// See the License for the specific language governing permissions and\n",
              "// limitations under the License.\n",
              "\n",
              "/**\n",
              " * @fileoverview Helpers for google.colab Python module.\n",
              " */\n",
              "(function(scope) {\n",
              "function span(text, styleAttributes = {}) {\n",
              "  const element = document.createElement('span');\n",
              "  element.textContent = text;\n",
              "  for (const key of Object.keys(styleAttributes)) {\n",
              "    element.style[key] = styleAttributes[key];\n",
              "  }\n",
              "  return element;\n",
              "}\n",
              "\n",
              "// Max number of bytes which will be uploaded at a time.\n",
              "const MAX_PAYLOAD_SIZE = 100 * 1024;\n",
              "\n",
              "function _uploadFiles(inputId, outputId) {\n",
              "  const steps = uploadFilesStep(inputId, outputId);\n",
              "  const outputElement = document.getElementById(outputId);\n",
              "  // Cache steps on the outputElement to make it available for the next call\n",
              "  // to uploadFilesContinue from Python.\n",
              "  outputElement.steps = steps;\n",
              "\n",
              "  return _uploadFilesContinue(outputId);\n",
              "}\n",
              "\n",
              "// This is roughly an async generator (not supported in the browser yet),\n",
              "// where there are multiple asynchronous steps and the Python side is going\n",
              "// to poll for completion of each step.\n",
              "// This uses a Promise to block the python side on completion of each step,\n",
              "// then passes the result of the previous step as the input to the next step.\n",
              "function _uploadFilesContinue(outputId) {\n",
              "  const outputElement = document.getElementById(outputId);\n",
              "  const steps = outputElement.steps;\n",
              "\n",
              "  const next = steps.next(outputElement.lastPromiseValue);\n",
              "  return Promise.resolve(next.value.promise).then((value) => {\n",
              "    // Cache the last promise value to make it available to the next\n",
              "    // step of the generator.\n",
              "    outputElement.lastPromiseValue = value;\n",
              "    return next.value.response;\n",
              "  });\n",
              "}\n",
              "\n",
              "/**\n",
              " * Generator function which is called between each async step of the upload\n",
              " * process.\n",
              " * @param {string} inputId Element ID of the input file picker element.\n",
              " * @param {string} outputId Element ID of the output display.\n",
              " * @return {!Iterable<!Object>} Iterable of next steps.\n",
              " */\n",
              "function* uploadFilesStep(inputId, outputId) {\n",
              "  const inputElement = document.getElementById(inputId);\n",
              "  inputElement.disabled = false;\n",
              "\n",
              "  const outputElement = document.getElementById(outputId);\n",
              "  outputElement.innerHTML = '';\n",
              "\n",
              "  const pickedPromise = new Promise((resolve) => {\n",
              "    inputElement.addEventListener('change', (e) => {\n",
              "      resolve(e.target.files);\n",
              "    });\n",
              "  });\n",
              "\n",
              "  const cancel = document.createElement('button');\n",
              "  inputElement.parentElement.appendChild(cancel);\n",
              "  cancel.textContent = 'Cancel upload';\n",
              "  const cancelPromise = new Promise((resolve) => {\n",
              "    cancel.onclick = () => {\n",
              "      resolve(null);\n",
              "    };\n",
              "  });\n",
              "\n",
              "  // Wait for the user to pick the files.\n",
              "  const files = yield {\n",
              "    promise: Promise.race([pickedPromise, cancelPromise]),\n",
              "    response: {\n",
              "      action: 'starting',\n",
              "    }\n",
              "  };\n",
              "\n",
              "  cancel.remove();\n",
              "\n",
              "  // Disable the input element since further picks are not allowed.\n",
              "  inputElement.disabled = true;\n",
              "\n",
              "  if (!files) {\n",
              "    return {\n",
              "      response: {\n",
              "        action: 'complete',\n",
              "      }\n",
              "    };\n",
              "  }\n",
              "\n",
              "  for (const file of files) {\n",
              "    const li = document.createElement('li');\n",
              "    li.append(span(file.name, {fontWeight: 'bold'}));\n",
              "    li.append(span(\n",
              "        `(${file.type || 'n/a'}) - ${file.size} bytes, ` +\n",
              "        `last modified: ${\n",
              "            file.lastModifiedDate ? file.lastModifiedDate.toLocaleDateString() :\n",
              "                                    'n/a'} - `));\n",
              "    const percent = span('0% done');\n",
              "    li.appendChild(percent);\n",
              "\n",
              "    outputElement.appendChild(li);\n",
              "\n",
              "    const fileDataPromise = new Promise((resolve) => {\n",
              "      const reader = new FileReader();\n",
              "      reader.onload = (e) => {\n",
              "        resolve(e.target.result);\n",
              "      };\n",
              "      reader.readAsArrayBuffer(file);\n",
              "    });\n",
              "    // Wait for the data to be ready.\n",
              "    let fileData = yield {\n",
              "      promise: fileDataPromise,\n",
              "      response: {\n",
              "        action: 'continue',\n",
              "      }\n",
              "    };\n",
              "\n",
              "    // Use a chunked sending to avoid message size limits. See b/62115660.\n",
              "    let position = 0;\n",
              "    do {\n",
              "      const length = Math.min(fileData.byteLength - position, MAX_PAYLOAD_SIZE);\n",
              "      const chunk = new Uint8Array(fileData, position, length);\n",
              "      position += length;\n",
              "\n",
              "      const base64 = btoa(String.fromCharCode.apply(null, chunk));\n",
              "      yield {\n",
              "        response: {\n",
              "          action: 'append',\n",
              "          file: file.name,\n",
              "          data: base64,\n",
              "        },\n",
              "      };\n",
              "\n",
              "      let percentDone = fileData.byteLength === 0 ?\n",
              "          100 :\n",
              "          Math.round((position / fileData.byteLength) * 100);\n",
              "      percent.textContent = `${percentDone}% done`;\n",
              "\n",
              "    } while (position < fileData.byteLength);\n",
              "  }\n",
              "\n",
              "  // All done.\n",
              "  yield {\n",
              "    response: {\n",
              "      action: 'complete',\n",
              "    }\n",
              "  };\n",
              "}\n",
              "\n",
              "scope.google = scope.google || {};\n",
              "scope.google.colab = scope.google.colab || {};\n",
              "scope.google.colab._files = {\n",
              "  _uploadFiles,\n",
              "  _uploadFilesContinue,\n",
              "};\n",
              "})(self);\n",
              "</script> "
            ]
          },
          "metadata": {}
        },
        {
          "output_type": "stream",
          "name": "stdout",
          "text": [
            "Saving syncnet_v2.model to syncnet_v2.model\n"
          ]
        }
      ]
    },
    {
      "cell_type": "code",
      "source": [
        "!ls -lh\n"
      ],
      "metadata": {
        "colab": {
          "base_uri": "https://localhost:8080/"
        },
        "id": "0ayypPEktNH9",
        "outputId": "c4cb3937-0d34-4335-eca7-a0585474c95c"
      },
      "execution_count": 29,
      "outputs": [
        {
          "output_type": "stream",
          "name": "stdout",
          "text": [
            "total 55M\n",
            "drwxr-xr-x 2 root root 4.0K Feb 26 18:59 data\n",
            "-rwxr-xr-x 1 root root  977 Feb 26 18:18 demo_feature.py\n",
            "-rwxr-xr-x 1 root root  931 Feb 26 18:18 demo_syncnet.py\n",
            "drwxr-xr-x 3 root root 4.0K Feb 26 18:18 detectors\n",
            "-rwxr-xr-x 1 root root  395 Feb 26 18:18 download_model.sh\n",
            "drwxr-xr-x 2 root root 4.0K Feb 26 18:18 img\n",
            "-rw-r--r-- 1 root root 252K Feb 26 18:39 input_audio.mp3\n",
            "-rw-r--r-- 1 root root 1.4M Feb 26 18:42 input_audio.wav\n",
            "-rw-r--r-- 1 root root 183K Feb 26 18:39 input_image.png\n",
            "-rw-r--r-- 1 root root 176K Feb 26 18:44 input_image_resized.png\n",
            "-rw-r--r-- 1 root root  39K Feb 26 18:45 input_video.mp4\n",
            "-rw-r--r-- 1 root root 1.1K Feb 26 18:18 LICENSE.md\n",
            "drwxr-xr-x 2 root root 4.0K Feb 26 18:46 __pycache__\n",
            "-rwxr-xr-x 1 root root 1.7K Feb 26 18:18 README.md\n",
            "-rw-r--r-- 1 root root  123 Feb 26 18:18 requirements.txt\n",
            "-rwxr-xr-x 1 root root  11K Feb 26 18:18 run_pipeline.py\n",
            "-rwxr-xr-x 1 root root 1.6K Feb 26 18:18 run_syncnet.py\n",
            "-rw-r--r-- 1 root root 3.2K Feb 26 18:18 run_visualise.py\n",
            "-rw-r--r-- 1 root root 6.5K Feb 26 18:18 SyncNetInstance.py\n",
            "-rwxr-xr-x 1 root root 3.5K Feb 26 18:18 SyncNetModel.py\n",
            "-rw-r--r-- 1 root root  53M Feb 26 19:21 syncnet_v2.model\n"
          ]
        }
      ]
    },
    {
      "cell_type": "code",
      "source": [
        "!python run_syncnet.py --videofile input_video.mp4 --reference input_audio.wav --data_dir output/"
      ],
      "metadata": {
        "colab": {
          "base_uri": "https://localhost:8080/"
        },
        "id": "aheRBaWytaIz",
        "outputId": "83eaecfe-1796-4028-ec18-ede8306666e5"
      },
      "execution_count": 30,
      "outputs": [
        {
          "output_type": "stream",
          "name": "stdout",
          "text": [
            "/content/syncnet_python/SyncNetInstance.py:202: FutureWarning: You are using `torch.load` with `weights_only=False` (the current default value), which uses the default pickle module implicitly. It is possible to construct malicious pickle data which will execute arbitrary code during unpickling (See https://github.com/pytorch/pytorch/blob/main/SECURITY.md#untrusted-models for more details). In a future release, the default value for `weights_only` will be flipped to `True`. This limits the functions that could be executed during unpickling. Arbitrary objects will no longer be allowed to be loaded via this mode unless they are explicitly allowlisted by the user via `torch.serialization.add_safe_globals`. We recommend you start setting `weights_only=True` for any use case where you don't have full control of the loaded file. Please open an issue on GitHub for any issues related to this experimental feature.\n",
            "  loaded_state = torch.load(path, map_location=lambda storage, loc: storage);\n",
            "Traceback (most recent call last):\n",
            "  File \"/content/syncnet_python/run_syncnet.py\", line 29, in <module>\n",
            "    s.loadParameters(opt.initial_model);\n",
            "    ^^^^^^^^^^^^^^^^^^^^^^^^^^^^^^^^^^^\n",
            "  File \"/content/syncnet_python/SyncNetInstance.py\", line 202, in loadParameters\n",
            "    loaded_state = torch.load(path, map_location=lambda storage, loc: storage);\n",
            "                   ^^^^^^^^^^^^^^^^^^^^^^^^^^^^^^^^^^^^^^^^^^^^^^^^^^^^^^^^^^^\n",
            "  File \"/usr/local/lib/python3.11/dist-packages/torch/serialization.py\", line 1384, in load\n",
            "    return _legacy_load(\n",
            "           ^^^^^^^^^^^^^\n",
            "  File \"/usr/local/lib/python3.11/dist-packages/torch/serialization.py\", line 1628, in _legacy_load\n",
            "    magic_number = pickle_module.load(f, **pickle_load_args)\n",
            "                   ^^^^^^^^^^^^^^^^^^^^^^^^^^^^^^^^^^^^^^^^^\n",
            "EOFError: Ran out of input\n"
          ]
        }
      ]
    },
    {
      "cell_type": "code",
      "source": [
        "!mv syncnet_v2.model data/\n",
        "\n"
      ],
      "metadata": {
        "id": "Rbnvev62tnyQ"
      },
      "execution_count": 32,
      "outputs": []
    },
    {
      "cell_type": "code",
      "source": [
        "import torch\n",
        "\n",
        "model_path = \"data/syncnet_v2.model\"\n",
        "\n",
        "try:\n",
        "    model_data = torch.load(model_path, map_location=torch.device('cpu'))\n",
        "    print(\"✅ Model loaded successfully!\")\n",
        "except Exception as e:\n",
        "    print(\"❌ Model loading failed:\", e)\n"
      ],
      "metadata": {
        "colab": {
          "base_uri": "https://localhost:8080/"
        },
        "id": "aixG3REvtvjP",
        "outputId": "b8952288-78ee-44ce-abd5-605f8f7a6380"
      },
      "execution_count": 33,
      "outputs": [
        {
          "output_type": "stream",
          "name": "stdout",
          "text": [
            "✅ Model loaded successfully!\n"
          ]
        },
        {
          "output_type": "stream",
          "name": "stderr",
          "text": [
            "<ipython-input-33-c6cfc89304f0>:6: FutureWarning: You are using `torch.load` with `weights_only=False` (the current default value), which uses the default pickle module implicitly. It is possible to construct malicious pickle data which will execute arbitrary code during unpickling (See https://github.com/pytorch/pytorch/blob/main/SECURITY.md#untrusted-models for more details). In a future release, the default value for `weights_only` will be flipped to `True`. This limits the functions that could be executed during unpickling. Arbitrary objects will no longer be allowed to be loaded via this mode unless they are explicitly allowlisted by the user via `torch.serialization.add_safe_globals`. We recommend you start setting `weights_only=True` for any use case where you don't have full control of the loaded file. Please open an issue on GitHub for any issues related to this experimental feature.\n",
            "  model_data = torch.load(model_path, map_location=torch.device('cpu'))\n"
          ]
        }
      ]
    },
    {
      "cell_type": "code",
      "source": [
        "!python run_syncnet.py --videofile input_video.mp4 --reference input_audio.wav --data_dir output/"
      ],
      "metadata": {
        "colab": {
          "base_uri": "https://localhost:8080/"
        },
        "id": "jCli6_kct2Vc",
        "outputId": "3e495614-4918-4442-ec9c-1f23f82fd012"
      },
      "execution_count": 34,
      "outputs": [
        {
          "output_type": "stream",
          "name": "stdout",
          "text": [
            "/content/syncnet_python/SyncNetInstance.py:202: FutureWarning: You are using `torch.load` with `weights_only=False` (the current default value), which uses the default pickle module implicitly. It is possible to construct malicious pickle data which will execute arbitrary code during unpickling (See https://github.com/pytorch/pytorch/blob/main/SECURITY.md#untrusted-models for more details). In a future release, the default value for `weights_only` will be flipped to `True`. This limits the functions that could be executed during unpickling. Arbitrary objects will no longer be allowed to be loaded via this mode unless they are explicitly allowlisted by the user via `torch.serialization.add_safe_globals`. We recommend you start setting `weights_only=True` for any use case where you don't have full control of the loaded file. Please open an issue on GitHub for any issues related to this experimental feature.\n",
            "  loaded_state = torch.load(path, map_location=lambda storage, loc: storage);\n",
            "Model data/syncnet_v2.model loaded.\n",
            "Traceback (most recent call last):\n",
            "  File \"/content/syncnet_python/run_syncnet.py\", line 44, in <module>\n",
            "    with open(os.path.join(opt.work_dir,opt.reference,'activesd.pckl'), 'wb') as fil:\n",
            "         ^^^^^^^^^^^^^^^^^^^^^^^^^^^^^^^^^^^^^^^^^^^^^^^^^^^^^^^^^^^^^^^^^^^^\n",
            "FileNotFoundError: [Errno 2] No such file or directory: 'output/pywork/input_audio.wav/activesd.pckl'\n"
          ]
        }
      ]
    },
    {
      "cell_type": "code",
      "source": [
        "!mkdir -p output/pywork/input_video/"
      ],
      "metadata": {
        "id": "LfwK29vHuEy5"
      },
      "execution_count": 35,
      "outputs": []
    },
    {
      "cell_type": "code",
      "source": [
        "!python run_syncnet.py --videofile input_video.mp4 --reference input_video --data_dir output/\n"
      ],
      "metadata": {
        "colab": {
          "base_uri": "https://localhost:8080/"
        },
        "id": "fGdZLsyauG3-",
        "outputId": "cdb05f8c-88ce-4b00-bbcd-8aece89e04e6"
      },
      "execution_count": 36,
      "outputs": [
        {
          "output_type": "stream",
          "name": "stdout",
          "text": [
            "/content/syncnet_python/SyncNetInstance.py:202: FutureWarning: You are using `torch.load` with `weights_only=False` (the current default value), which uses the default pickle module implicitly. It is possible to construct malicious pickle data which will execute arbitrary code during unpickling (See https://github.com/pytorch/pytorch/blob/main/SECURITY.md#untrusted-models for more details). In a future release, the default value for `weights_only` will be flipped to `True`. This limits the functions that could be executed during unpickling. Arbitrary objects will no longer be allowed to be loaded via this mode unless they are explicitly allowlisted by the user via `torch.serialization.add_safe_globals`. We recommend you start setting `weights_only=True` for any use case where you don't have full control of the loaded file. Please open an issue on GitHub for any issues related to this experimental feature.\n",
            "  loaded_state = torch.load(path, map_location=lambda storage, loc: storage);\n",
            "Model data/syncnet_v2.model loaded.\n"
          ]
        }
      ]
    },
    {
      "cell_type": "code",
      "source": [
        "!ls output/"
      ],
      "metadata": {
        "colab": {
          "base_uri": "https://localhost:8080/"
        },
        "id": "5C365RwVuWmC",
        "outputId": "4d01443b-7cd1-4446-85eb-5d282647fc8c"
      },
      "execution_count": 37,
      "outputs": [
        {
          "output_type": "stream",
          "name": "stdout",
          "text": [
            "pywork\n"
          ]
        }
      ]
    },
    {
      "cell_type": "code",
      "source": [
        "!ls -lh output/pywork/\n"
      ],
      "metadata": {
        "colab": {
          "base_uri": "https://localhost:8080/"
        },
        "id": "keSOjePMujSZ",
        "outputId": "66e37a46-1fa8-4f96-b35f-d49a84917c97"
      },
      "execution_count": 38,
      "outputs": [
        {
          "output_type": "stream",
          "name": "stdout",
          "text": [
            "total 4.0K\n",
            "drwxr-xr-x 2 root root 4.0K Feb 26 19:25 input_video\n"
          ]
        }
      ]
    },
    {
      "cell_type": "code",
      "source": [
        "!ls -lh output/pywork/input_video/\n"
      ],
      "metadata": {
        "colab": {
          "base_uri": "https://localhost:8080/"
        },
        "id": "3G1zumV2uwM_",
        "outputId": "72fdcde6-41a2-40b0-8cb9-0b2d51121282"
      },
      "execution_count": 39,
      "outputs": [
        {
          "output_type": "stream",
          "name": "stdout",
          "text": [
            "total 4.0K\n",
            "-rw-r--r-- 1 root root 5 Feb 26 19:25 activesd.pckl\n"
          ]
        }
      ]
    },
    {
      "cell_type": "code",
      "source": [
        "!python run_syncnet.py --videofile input_video.mp4 --reference input_video --data_dir output/ --extract\n"
      ],
      "metadata": {
        "colab": {
          "base_uri": "https://localhost:8080/"
        },
        "id": "nj5TNR6Zu5er",
        "outputId": "d2009724-7855-452b-c3d4-d3c4c8dc3ddc"
      },
      "execution_count": 40,
      "outputs": [
        {
          "output_type": "stream",
          "name": "stdout",
          "text": [
            "usage: run_syncnet.py [-h] [--initial_model INITIAL_MODEL] [--batch_size BATCH_SIZE]\n",
            "                      [--vshift VSHIFT] [--data_dir DATA_DIR] [--videofile VIDEOFILE]\n",
            "                      [--reference REFERENCE]\n",
            "run_syncnet.py: error: unrecognized arguments: --extract\n"
          ]
        }
      ]
    },
    {
      "cell_type": "code",
      "source": [
        "!mkdir -p output/pywork/input_video/frames\n",
        "!ffmpeg -i input_video.mp4 -vf \"fps=25,scale=256:256\" output/pywork/input_video/frames/frame_%05d.jpg"
      ],
      "metadata": {
        "colab": {
          "base_uri": "https://localhost:8080/"
        },
        "id": "822CLFl4vDDG",
        "outputId": "3f3d8aa4-70f5-44e5-edac-4255238a200b"
      },
      "execution_count": 41,
      "outputs": [
        {
          "output_type": "stream",
          "name": "stdout",
          "text": [
            "ffmpeg version 4.4.2-0ubuntu0.22.04.1 Copyright (c) 2000-2021 the FFmpeg developers\n",
            "  built with gcc 11 (Ubuntu 11.2.0-19ubuntu1)\n",
            "  configuration: --prefix=/usr --extra-version=0ubuntu0.22.04.1 --toolchain=hardened --libdir=/usr/lib/x86_64-linux-gnu --incdir=/usr/include/x86_64-linux-gnu --arch=amd64 --enable-gpl --disable-stripping --enable-gnutls --enable-ladspa --enable-libaom --enable-libass --enable-libbluray --enable-libbs2b --enable-libcaca --enable-libcdio --enable-libcodec2 --enable-libdav1d --enable-libflite --enable-libfontconfig --enable-libfreetype --enable-libfribidi --enable-libgme --enable-libgsm --enable-libjack --enable-libmp3lame --enable-libmysofa --enable-libopenjpeg --enable-libopenmpt --enable-libopus --enable-libpulse --enable-librabbitmq --enable-librubberband --enable-libshine --enable-libsnappy --enable-libsoxr --enable-libspeex --enable-libsrt --enable-libssh --enable-libtheora --enable-libtwolame --enable-libvidstab --enable-libvorbis --enable-libvpx --enable-libwebp --enable-libx265 --enable-libxml2 --enable-libxvid --enable-libzimg --enable-libzmq --enable-libzvbi --enable-lv2 --enable-omx --enable-openal --enable-opencl --enable-opengl --enable-sdl2 --enable-pocketsphinx --enable-librsvg --enable-libmfx --enable-libdc1394 --enable-libdrm --enable-libiec61883 --enable-chromaprint --enable-frei0r --enable-libx264 --enable-shared\n",
            "  libavutil      56. 70.100 / 56. 70.100\n",
            "  libavcodec     58.134.100 / 58.134.100\n",
            "  libavformat    58. 76.100 / 58. 76.100\n",
            "  libavdevice    58. 13.100 / 58. 13.100\n",
            "  libavfilter     7.110.100 /  7.110.100\n",
            "  libswscale      5.  9.100 /  5.  9.100\n",
            "  libswresample   3.  9.100 /  3.  9.100\n",
            "  libpostproc    55.  9.100 / 55.  9.100\n",
            "Input #0, mov,mp4,m4a,3gp,3g2,mj2, from 'input_video.mp4':\n",
            "  Metadata:\n",
            "    major_brand     : isom\n",
            "    minor_version   : 512\n",
            "    compatible_brands: isomiso2avc1mp41\n",
            "    encoder         : Lavf58.76.100\n",
            "  Duration: 00:00:10.00, start: 0.000000, bitrate: 31 kb/s\n",
            "  Stream #0:0(und): Video: h264 (High) (avc1 / 0x31637661), yuv420p, 580x580, 28 kb/s, 25 fps, 25 tbr, 12800 tbn, 50 tbc (default)\n",
            "    Metadata:\n",
            "      handler_name    : VideoHandler\n",
            "      vendor_id       : [0][0][0][0]\n",
            "Stream mapping:\n",
            "  Stream #0:0 -> #0:0 (h264 (native) -> mjpeg (native))\n",
            "Press [q] to stop, [?] for help\n",
            "\u001b[1;34m[swscaler @ 0x557380989340] \u001b[0m\u001b[0;33mdeprecated pixel format used, make sure you did set range correctly\n",
            "\u001b[0mOutput #0, image2, to 'output/pywork/input_video/frames/frame_%05d.jpg':\n",
            "  Metadata:\n",
            "    major_brand     : isom\n",
            "    minor_version   : 512\n",
            "    compatible_brands: isomiso2avc1mp41\n",
            "    encoder         : Lavf58.76.100\n",
            "  Stream #0:0(und): Video: mjpeg, yuvj420p(pc, progressive), 256x256, q=2-31, 200 kb/s, 25 fps, 25 tbn (default)\n",
            "    Metadata:\n",
            "      handler_name    : VideoHandler\n",
            "      vendor_id       : [0][0][0][0]\n",
            "      encoder         : Lavc58.134.100 mjpeg\n",
            "    Side data:\n",
            "      cpb: bitrate max/min/avg: 0/0/200000 buffer size: 0 vbv_delay: N/A\n",
            "frame=  250 fps=0.0 q=24.8 Lsize=N/A time=00:00:10.00 bitrate=N/A speed=17.7x    \n",
            "video:623kB audio:0kB subtitle:0kB other streams:0kB global headers:0kB muxing overhead: unknown\n"
          ]
        }
      ]
    },
    {
      "cell_type": "code",
      "source": [
        "!ls -lh output/pywork/input_video/frames/"
      ],
      "metadata": {
        "colab": {
          "base_uri": "https://localhost:8080/"
        },
        "id": "Xt8NgLpDvKDc",
        "outputId": "0842dad7-410d-4025-a4b7-58903ba1cc8a"
      },
      "execution_count": 42,
      "outputs": [
        {
          "output_type": "stream",
          "name": "stdout",
          "text": [
            "total 1.1M\n",
            "-rw-r--r-- 1 root root 5.4K Feb 26 19:29 frame_00001.jpg\n",
            "-rw-r--r-- 1 root root 7.1K Feb 26 19:29 frame_00002.jpg\n",
            "-rw-r--r-- 1 root root 9.0K Feb 26 19:29 frame_00003.jpg\n",
            "-rw-r--r-- 1 root root 9.0K Feb 26 19:29 frame_00004.jpg\n",
            "-rw-r--r-- 1 root root 7.1K Feb 26 19:29 frame_00005.jpg\n",
            "-rw-r--r-- 1 root root 5.4K Feb 26 19:29 frame_00006.jpg\n",
            "-rw-r--r-- 1 root root 4.6K Feb 26 19:29 frame_00007.jpg\n",
            "-rw-r--r-- 1 root root 4.0K Feb 26 19:29 frame_00008.jpg\n",
            "-rw-r--r-- 1 root root 3.5K Feb 26 19:29 frame_00009.jpg\n",
            "-rw-r--r-- 1 root root 3.1K Feb 26 19:29 frame_00010.jpg\n",
            "-rw-r--r-- 1 root root 2.8K Feb 26 19:29 frame_00011.jpg\n",
            "-rw-r--r-- 1 root root 2.6K Feb 26 19:29 frame_00012.jpg\n",
            "-rw-r--r-- 1 root root 2.4K Feb 26 19:29 frame_00013.jpg\n",
            "-rw-r--r-- 1 root root 2.4K Feb 26 19:29 frame_00014.jpg\n",
            "-rw-r--r-- 1 root root 2.4K Feb 26 19:29 frame_00015.jpg\n",
            "-rw-r--r-- 1 root root 2.4K Feb 26 19:29 frame_00016.jpg\n",
            "-rw-r--r-- 1 root root 2.4K Feb 26 19:29 frame_00017.jpg\n",
            "-rw-r--r-- 1 root root 2.4K Feb 26 19:29 frame_00018.jpg\n",
            "-rw-r--r-- 1 root root 2.4K Feb 26 19:29 frame_00019.jpg\n",
            "-rw-r--r-- 1 root root 2.4K Feb 26 19:29 frame_00020.jpg\n",
            "-rw-r--r-- 1 root root 2.4K Feb 26 19:29 frame_00021.jpg\n",
            "-rw-r--r-- 1 root root 2.4K Feb 26 19:29 frame_00022.jpg\n",
            "-rw-r--r-- 1 root root 2.4K Feb 26 19:29 frame_00023.jpg\n",
            "-rw-r--r-- 1 root root 2.4K Feb 26 19:29 frame_00024.jpg\n",
            "-rw-r--r-- 1 root root 2.4K Feb 26 19:29 frame_00025.jpg\n",
            "-rw-r--r-- 1 root root 2.4K Feb 26 19:29 frame_00026.jpg\n",
            "-rw-r--r-- 1 root root 2.4K Feb 26 19:29 frame_00027.jpg\n",
            "-rw-r--r-- 1 root root 2.4K Feb 26 19:29 frame_00028.jpg\n",
            "-rw-r--r-- 1 root root 2.4K Feb 26 19:29 frame_00029.jpg\n",
            "-rw-r--r-- 1 root root 2.4K Feb 26 19:29 frame_00030.jpg\n",
            "-rw-r--r-- 1 root root 2.4K Feb 26 19:29 frame_00031.jpg\n",
            "-rw-r--r-- 1 root root 2.4K Feb 26 19:29 frame_00032.jpg\n",
            "-rw-r--r-- 1 root root 2.4K Feb 26 19:29 frame_00033.jpg\n",
            "-rw-r--r-- 1 root root 2.4K Feb 26 19:29 frame_00034.jpg\n",
            "-rw-r--r-- 1 root root 2.4K Feb 26 19:29 frame_00035.jpg\n",
            "-rw-r--r-- 1 root root 2.4K Feb 26 19:29 frame_00036.jpg\n",
            "-rw-r--r-- 1 root root 2.4K Feb 26 19:29 frame_00037.jpg\n",
            "-rw-r--r-- 1 root root 2.4K Feb 26 19:29 frame_00038.jpg\n",
            "-rw-r--r-- 1 root root 2.4K Feb 26 19:29 frame_00039.jpg\n",
            "-rw-r--r-- 1 root root 2.4K Feb 26 19:29 frame_00040.jpg\n",
            "-rw-r--r-- 1 root root 2.4K Feb 26 19:29 frame_00041.jpg\n",
            "-rw-r--r-- 1 root root 2.4K Feb 26 19:29 frame_00042.jpg\n",
            "-rw-r--r-- 1 root root 2.4K Feb 26 19:29 frame_00043.jpg\n",
            "-rw-r--r-- 1 root root 2.4K Feb 26 19:29 frame_00044.jpg\n",
            "-rw-r--r-- 1 root root 2.4K Feb 26 19:29 frame_00045.jpg\n",
            "-rw-r--r-- 1 root root 2.4K Feb 26 19:29 frame_00046.jpg\n",
            "-rw-r--r-- 1 root root 2.4K Feb 26 19:29 frame_00047.jpg\n",
            "-rw-r--r-- 1 root root 2.4K Feb 26 19:29 frame_00048.jpg\n",
            "-rw-r--r-- 1 root root 2.4K Feb 26 19:29 frame_00049.jpg\n",
            "-rw-r--r-- 1 root root 2.4K Feb 26 19:29 frame_00050.jpg\n",
            "-rw-r--r-- 1 root root 2.4K Feb 26 19:29 frame_00051.jpg\n",
            "-rw-r--r-- 1 root root 2.4K Feb 26 19:29 frame_00052.jpg\n",
            "-rw-r--r-- 1 root root 2.4K Feb 26 19:29 frame_00053.jpg\n",
            "-rw-r--r-- 1 root root 2.4K Feb 26 19:29 frame_00054.jpg\n",
            "-rw-r--r-- 1 root root 2.4K Feb 26 19:29 frame_00055.jpg\n",
            "-rw-r--r-- 1 root root 2.4K Feb 26 19:29 frame_00056.jpg\n",
            "-rw-r--r-- 1 root root 2.4K Feb 26 19:29 frame_00057.jpg\n",
            "-rw-r--r-- 1 root root 2.4K Feb 26 19:29 frame_00058.jpg\n",
            "-rw-r--r-- 1 root root 2.4K Feb 26 19:29 frame_00059.jpg\n",
            "-rw-r--r-- 1 root root 2.4K Feb 26 19:29 frame_00060.jpg\n",
            "-rw-r--r-- 1 root root 2.4K Feb 26 19:29 frame_00061.jpg\n",
            "-rw-r--r-- 1 root root 2.4K Feb 26 19:29 frame_00062.jpg\n",
            "-rw-r--r-- 1 root root 2.4K Feb 26 19:29 frame_00063.jpg\n",
            "-rw-r--r-- 1 root root 2.4K Feb 26 19:29 frame_00064.jpg\n",
            "-rw-r--r-- 1 root root 2.4K Feb 26 19:29 frame_00065.jpg\n",
            "-rw-r--r-- 1 root root 2.4K Feb 26 19:29 frame_00066.jpg\n",
            "-rw-r--r-- 1 root root 2.4K Feb 26 19:29 frame_00067.jpg\n",
            "-rw-r--r-- 1 root root 2.4K Feb 26 19:29 frame_00068.jpg\n",
            "-rw-r--r-- 1 root root 2.4K Feb 26 19:29 frame_00069.jpg\n",
            "-rw-r--r-- 1 root root 2.4K Feb 26 19:29 frame_00070.jpg\n",
            "-rw-r--r-- 1 root root 2.4K Feb 26 19:29 frame_00071.jpg\n",
            "-rw-r--r-- 1 root root 2.4K Feb 26 19:29 frame_00072.jpg\n",
            "-rw-r--r-- 1 root root 2.4K Feb 26 19:29 frame_00073.jpg\n",
            "-rw-r--r-- 1 root root 2.4K Feb 26 19:29 frame_00074.jpg\n",
            "-rw-r--r-- 1 root root 2.4K Feb 26 19:29 frame_00075.jpg\n",
            "-rw-r--r-- 1 root root 2.4K Feb 26 19:29 frame_00076.jpg\n",
            "-rw-r--r-- 1 root root 2.4K Feb 26 19:29 frame_00077.jpg\n",
            "-rw-r--r-- 1 root root 2.4K Feb 26 19:29 frame_00078.jpg\n",
            "-rw-r--r-- 1 root root 2.4K Feb 26 19:29 frame_00079.jpg\n",
            "-rw-r--r-- 1 root root 2.4K Feb 26 19:29 frame_00080.jpg\n",
            "-rw-r--r-- 1 root root 2.4K Feb 26 19:29 frame_00081.jpg\n",
            "-rw-r--r-- 1 root root 2.4K Feb 26 19:29 frame_00082.jpg\n",
            "-rw-r--r-- 1 root root 2.4K Feb 26 19:29 frame_00083.jpg\n",
            "-rw-r--r-- 1 root root 2.4K Feb 26 19:29 frame_00084.jpg\n",
            "-rw-r--r-- 1 root root 2.4K Feb 26 19:29 frame_00085.jpg\n",
            "-rw-r--r-- 1 root root 2.4K Feb 26 19:29 frame_00086.jpg\n",
            "-rw-r--r-- 1 root root 2.4K Feb 26 19:29 frame_00087.jpg\n",
            "-rw-r--r-- 1 root root 2.4K Feb 26 19:29 frame_00088.jpg\n",
            "-rw-r--r-- 1 root root 2.4K Feb 26 19:29 frame_00089.jpg\n",
            "-rw-r--r-- 1 root root 2.4K Feb 26 19:29 frame_00090.jpg\n",
            "-rw-r--r-- 1 root root 2.4K Feb 26 19:29 frame_00091.jpg\n",
            "-rw-r--r-- 1 root root 2.4K Feb 26 19:29 frame_00092.jpg\n",
            "-rw-r--r-- 1 root root 2.4K Feb 26 19:29 frame_00093.jpg\n",
            "-rw-r--r-- 1 root root 2.4K Feb 26 19:29 frame_00094.jpg\n",
            "-rw-r--r-- 1 root root 2.4K Feb 26 19:29 frame_00095.jpg\n",
            "-rw-r--r-- 1 root root 2.4K Feb 26 19:29 frame_00096.jpg\n",
            "-rw-r--r-- 1 root root 2.4K Feb 26 19:29 frame_00097.jpg\n",
            "-rw-r--r-- 1 root root 2.4K Feb 26 19:29 frame_00098.jpg\n",
            "-rw-r--r-- 1 root root 2.4K Feb 26 19:29 frame_00099.jpg\n",
            "-rw-r--r-- 1 root root 2.4K Feb 26 19:29 frame_00100.jpg\n",
            "-rw-r--r-- 1 root root 2.4K Feb 26 19:29 frame_00101.jpg\n",
            "-rw-r--r-- 1 root root 2.4K Feb 26 19:29 frame_00102.jpg\n",
            "-rw-r--r-- 1 root root 2.4K Feb 26 19:29 frame_00103.jpg\n",
            "-rw-r--r-- 1 root root 2.4K Feb 26 19:29 frame_00104.jpg\n",
            "-rw-r--r-- 1 root root 2.4K Feb 26 19:29 frame_00105.jpg\n",
            "-rw-r--r-- 1 root root 2.4K Feb 26 19:29 frame_00106.jpg\n",
            "-rw-r--r-- 1 root root 2.4K Feb 26 19:29 frame_00107.jpg\n",
            "-rw-r--r-- 1 root root 2.4K Feb 26 19:29 frame_00108.jpg\n",
            "-rw-r--r-- 1 root root 2.4K Feb 26 19:29 frame_00109.jpg\n",
            "-rw-r--r-- 1 root root 2.4K Feb 26 19:29 frame_00110.jpg\n",
            "-rw-r--r-- 1 root root 2.4K Feb 26 19:29 frame_00111.jpg\n",
            "-rw-r--r-- 1 root root 2.4K Feb 26 19:29 frame_00112.jpg\n",
            "-rw-r--r-- 1 root root 2.4K Feb 26 19:29 frame_00113.jpg\n",
            "-rw-r--r-- 1 root root 2.4K Feb 26 19:29 frame_00114.jpg\n",
            "-rw-r--r-- 1 root root 2.4K Feb 26 19:29 frame_00115.jpg\n",
            "-rw-r--r-- 1 root root 2.4K Feb 26 19:29 frame_00116.jpg\n",
            "-rw-r--r-- 1 root root 2.4K Feb 26 19:29 frame_00117.jpg\n",
            "-rw-r--r-- 1 root root 2.4K Feb 26 19:29 frame_00118.jpg\n",
            "-rw-r--r-- 1 root root 2.4K Feb 26 19:29 frame_00119.jpg\n",
            "-rw-r--r-- 1 root root 2.4K Feb 26 19:29 frame_00120.jpg\n",
            "-rw-r--r-- 1 root root 2.4K Feb 26 19:29 frame_00121.jpg\n",
            "-rw-r--r-- 1 root root 2.4K Feb 26 19:29 frame_00122.jpg\n",
            "-rw-r--r-- 1 root root 2.4K Feb 26 19:29 frame_00123.jpg\n",
            "-rw-r--r-- 1 root root 2.4K Feb 26 19:29 frame_00124.jpg\n",
            "-rw-r--r-- 1 root root 2.4K Feb 26 19:29 frame_00125.jpg\n",
            "-rw-r--r-- 1 root root 2.4K Feb 26 19:29 frame_00126.jpg\n",
            "-rw-r--r-- 1 root root 2.4K Feb 26 19:29 frame_00127.jpg\n",
            "-rw-r--r-- 1 root root 2.4K Feb 26 19:29 frame_00128.jpg\n",
            "-rw-r--r-- 1 root root 2.4K Feb 26 19:29 frame_00129.jpg\n",
            "-rw-r--r-- 1 root root 2.4K Feb 26 19:29 frame_00130.jpg\n",
            "-rw-r--r-- 1 root root 2.4K Feb 26 19:29 frame_00131.jpg\n",
            "-rw-r--r-- 1 root root 2.4K Feb 26 19:29 frame_00132.jpg\n",
            "-rw-r--r-- 1 root root 2.4K Feb 26 19:29 frame_00133.jpg\n",
            "-rw-r--r-- 1 root root 2.4K Feb 26 19:29 frame_00134.jpg\n",
            "-rw-r--r-- 1 root root 2.4K Feb 26 19:29 frame_00135.jpg\n",
            "-rw-r--r-- 1 root root 2.4K Feb 26 19:29 frame_00136.jpg\n",
            "-rw-r--r-- 1 root root 2.4K Feb 26 19:29 frame_00137.jpg\n",
            "-rw-r--r-- 1 root root 2.4K Feb 26 19:29 frame_00138.jpg\n",
            "-rw-r--r-- 1 root root 2.4K Feb 26 19:29 frame_00139.jpg\n",
            "-rw-r--r-- 1 root root 2.4K Feb 26 19:29 frame_00140.jpg\n",
            "-rw-r--r-- 1 root root 2.4K Feb 26 19:29 frame_00141.jpg\n",
            "-rw-r--r-- 1 root root 2.4K Feb 26 19:29 frame_00142.jpg\n",
            "-rw-r--r-- 1 root root 2.4K Feb 26 19:29 frame_00143.jpg\n",
            "-rw-r--r-- 1 root root 2.4K Feb 26 19:29 frame_00144.jpg\n",
            "-rw-r--r-- 1 root root 2.4K Feb 26 19:29 frame_00145.jpg\n",
            "-rw-r--r-- 1 root root 2.4K Feb 26 19:29 frame_00146.jpg\n",
            "-rw-r--r-- 1 root root 2.4K Feb 26 19:29 frame_00147.jpg\n",
            "-rw-r--r-- 1 root root 2.4K Feb 26 19:29 frame_00148.jpg\n",
            "-rw-r--r-- 1 root root 2.4K Feb 26 19:29 frame_00149.jpg\n",
            "-rw-r--r-- 1 root root 2.4K Feb 26 19:29 frame_00150.jpg\n",
            "-rw-r--r-- 1 root root 2.4K Feb 26 19:29 frame_00151.jpg\n",
            "-rw-r--r-- 1 root root 2.4K Feb 26 19:29 frame_00152.jpg\n",
            "-rw-r--r-- 1 root root 2.4K Feb 26 19:29 frame_00153.jpg\n",
            "-rw-r--r-- 1 root root 2.4K Feb 26 19:29 frame_00154.jpg\n",
            "-rw-r--r-- 1 root root 2.4K Feb 26 19:29 frame_00155.jpg\n",
            "-rw-r--r-- 1 root root 2.4K Feb 26 19:29 frame_00156.jpg\n",
            "-rw-r--r-- 1 root root 2.4K Feb 26 19:29 frame_00157.jpg\n",
            "-rw-r--r-- 1 root root 2.4K Feb 26 19:29 frame_00158.jpg\n",
            "-rw-r--r-- 1 root root 2.4K Feb 26 19:29 frame_00159.jpg\n",
            "-rw-r--r-- 1 root root 2.4K Feb 26 19:29 frame_00160.jpg\n",
            "-rw-r--r-- 1 root root 2.4K Feb 26 19:29 frame_00161.jpg\n",
            "-rw-r--r-- 1 root root 2.4K Feb 26 19:29 frame_00162.jpg\n",
            "-rw-r--r-- 1 root root 2.4K Feb 26 19:29 frame_00163.jpg\n",
            "-rw-r--r-- 1 root root 2.4K Feb 26 19:29 frame_00164.jpg\n",
            "-rw-r--r-- 1 root root 2.4K Feb 26 19:29 frame_00165.jpg\n",
            "-rw-r--r-- 1 root root 2.4K Feb 26 19:29 frame_00166.jpg\n",
            "-rw-r--r-- 1 root root 2.4K Feb 26 19:29 frame_00167.jpg\n",
            "-rw-r--r-- 1 root root 2.4K Feb 26 19:29 frame_00168.jpg\n",
            "-rw-r--r-- 1 root root 2.4K Feb 26 19:29 frame_00169.jpg\n",
            "-rw-r--r-- 1 root root 2.4K Feb 26 19:29 frame_00170.jpg\n",
            "-rw-r--r-- 1 root root 2.4K Feb 26 19:29 frame_00171.jpg\n",
            "-rw-r--r-- 1 root root 2.4K Feb 26 19:29 frame_00172.jpg\n",
            "-rw-r--r-- 1 root root 2.4K Feb 26 19:29 frame_00173.jpg\n",
            "-rw-r--r-- 1 root root 2.4K Feb 26 19:29 frame_00174.jpg\n",
            "-rw-r--r-- 1 root root 2.4K Feb 26 19:29 frame_00175.jpg\n",
            "-rw-r--r-- 1 root root 2.4K Feb 26 19:29 frame_00176.jpg\n",
            "-rw-r--r-- 1 root root 2.4K Feb 26 19:29 frame_00177.jpg\n",
            "-rw-r--r-- 1 root root 2.4K Feb 26 19:29 frame_00178.jpg\n",
            "-rw-r--r-- 1 root root 2.4K Feb 26 19:29 frame_00179.jpg\n",
            "-rw-r--r-- 1 root root 2.4K Feb 26 19:29 frame_00180.jpg\n",
            "-rw-r--r-- 1 root root 2.4K Feb 26 19:29 frame_00181.jpg\n",
            "-rw-r--r-- 1 root root 2.4K Feb 26 19:29 frame_00182.jpg\n",
            "-rw-r--r-- 1 root root 2.4K Feb 26 19:29 frame_00183.jpg\n",
            "-rw-r--r-- 1 root root 2.4K Feb 26 19:29 frame_00184.jpg\n",
            "-rw-r--r-- 1 root root 2.4K Feb 26 19:29 frame_00185.jpg\n",
            "-rw-r--r-- 1 root root 2.4K Feb 26 19:29 frame_00186.jpg\n",
            "-rw-r--r-- 1 root root 2.4K Feb 26 19:29 frame_00187.jpg\n",
            "-rw-r--r-- 1 root root 2.4K Feb 26 19:29 frame_00188.jpg\n",
            "-rw-r--r-- 1 root root 2.4K Feb 26 19:29 frame_00189.jpg\n",
            "-rw-r--r-- 1 root root 2.4K Feb 26 19:29 frame_00190.jpg\n",
            "-rw-r--r-- 1 root root 2.4K Feb 26 19:29 frame_00191.jpg\n",
            "-rw-r--r-- 1 root root 2.4K Feb 26 19:29 frame_00192.jpg\n",
            "-rw-r--r-- 1 root root 2.4K Feb 26 19:29 frame_00193.jpg\n",
            "-rw-r--r-- 1 root root 2.4K Feb 26 19:29 frame_00194.jpg\n",
            "-rw-r--r-- 1 root root 2.4K Feb 26 19:29 frame_00195.jpg\n",
            "-rw-r--r-- 1 root root 2.4K Feb 26 19:29 frame_00196.jpg\n",
            "-rw-r--r-- 1 root root 2.4K Feb 26 19:29 frame_00197.jpg\n",
            "-rw-r--r-- 1 root root 2.4K Feb 26 19:29 frame_00198.jpg\n",
            "-rw-r--r-- 1 root root 2.4K Feb 26 19:29 frame_00199.jpg\n",
            "-rw-r--r-- 1 root root 2.4K Feb 26 19:29 frame_00200.jpg\n",
            "-rw-r--r-- 1 root root 2.4K Feb 26 19:29 frame_00201.jpg\n",
            "-rw-r--r-- 1 root root 2.4K Feb 26 19:29 frame_00202.jpg\n",
            "-rw-r--r-- 1 root root 2.4K Feb 26 19:29 frame_00203.jpg\n",
            "-rw-r--r-- 1 root root 2.4K Feb 26 19:29 frame_00204.jpg\n",
            "-rw-r--r-- 1 root root 2.4K Feb 26 19:29 frame_00205.jpg\n",
            "-rw-r--r-- 1 root root 2.4K Feb 26 19:29 frame_00206.jpg\n",
            "-rw-r--r-- 1 root root 2.4K Feb 26 19:29 frame_00207.jpg\n",
            "-rw-r--r-- 1 root root 2.4K Feb 26 19:29 frame_00208.jpg\n",
            "-rw-r--r-- 1 root root 2.4K Feb 26 19:29 frame_00209.jpg\n",
            "-rw-r--r-- 1 root root 2.4K Feb 26 19:29 frame_00210.jpg\n",
            "-rw-r--r-- 1 root root 2.4K Feb 26 19:29 frame_00211.jpg\n",
            "-rw-r--r-- 1 root root 2.4K Feb 26 19:29 frame_00212.jpg\n",
            "-rw-r--r-- 1 root root 2.4K Feb 26 19:29 frame_00213.jpg\n",
            "-rw-r--r-- 1 root root 2.4K Feb 26 19:29 frame_00214.jpg\n",
            "-rw-r--r-- 1 root root 2.4K Feb 26 19:29 frame_00215.jpg\n",
            "-rw-r--r-- 1 root root 2.4K Feb 26 19:29 frame_00216.jpg\n",
            "-rw-r--r-- 1 root root 2.4K Feb 26 19:29 frame_00217.jpg\n",
            "-rw-r--r-- 1 root root 2.4K Feb 26 19:29 frame_00218.jpg\n",
            "-rw-r--r-- 1 root root 2.4K Feb 26 19:29 frame_00219.jpg\n",
            "-rw-r--r-- 1 root root 2.4K Feb 26 19:29 frame_00220.jpg\n",
            "-rw-r--r-- 1 root root 2.4K Feb 26 19:29 frame_00221.jpg\n",
            "-rw-r--r-- 1 root root 2.4K Feb 26 19:29 frame_00222.jpg\n",
            "-rw-r--r-- 1 root root 2.4K Feb 26 19:29 frame_00223.jpg\n",
            "-rw-r--r-- 1 root root 2.4K Feb 26 19:29 frame_00224.jpg\n",
            "-rw-r--r-- 1 root root 2.4K Feb 26 19:29 frame_00225.jpg\n",
            "-rw-r--r-- 1 root root 2.4K Feb 26 19:29 frame_00226.jpg\n",
            "-rw-r--r-- 1 root root 2.4K Feb 26 19:29 frame_00227.jpg\n",
            "-rw-r--r-- 1 root root 2.4K Feb 26 19:29 frame_00228.jpg\n",
            "-rw-r--r-- 1 root root 2.4K Feb 26 19:29 frame_00229.jpg\n",
            "-rw-r--r-- 1 root root 2.4K Feb 26 19:29 frame_00230.jpg\n",
            "-rw-r--r-- 1 root root 2.4K Feb 26 19:29 frame_00231.jpg\n",
            "-rw-r--r-- 1 root root 2.4K Feb 26 19:29 frame_00232.jpg\n",
            "-rw-r--r-- 1 root root 2.4K Feb 26 19:29 frame_00233.jpg\n",
            "-rw-r--r-- 1 root root 2.4K Feb 26 19:29 frame_00234.jpg\n",
            "-rw-r--r-- 1 root root 2.4K Feb 26 19:29 frame_00235.jpg\n",
            "-rw-r--r-- 1 root root 2.4K Feb 26 19:29 frame_00236.jpg\n",
            "-rw-r--r-- 1 root root 2.4K Feb 26 19:29 frame_00237.jpg\n",
            "-rw-r--r-- 1 root root 2.4K Feb 26 19:29 frame_00238.jpg\n",
            "-rw-r--r-- 1 root root 2.4K Feb 26 19:29 frame_00239.jpg\n",
            "-rw-r--r-- 1 root root 2.4K Feb 26 19:29 frame_00240.jpg\n",
            "-rw-r--r-- 1 root root 2.4K Feb 26 19:29 frame_00241.jpg\n",
            "-rw-r--r-- 1 root root 2.4K Feb 26 19:29 frame_00242.jpg\n",
            "-rw-r--r-- 1 root root 2.4K Feb 26 19:29 frame_00243.jpg\n",
            "-rw-r--r-- 1 root root 2.4K Feb 26 19:29 frame_00244.jpg\n",
            "-rw-r--r-- 1 root root 2.4K Feb 26 19:29 frame_00245.jpg\n",
            "-rw-r--r-- 1 root root 2.4K Feb 26 19:29 frame_00246.jpg\n",
            "-rw-r--r-- 1 root root 2.4K Feb 26 19:29 frame_00247.jpg\n",
            "-rw-r--r-- 1 root root 2.4K Feb 26 19:29 frame_00248.jpg\n",
            "-rw-r--r-- 1 root root 2.4K Feb 26 19:29 frame_00249.jpg\n",
            "-rw-r--r-- 1 root root 2.4K Feb 26 19:29 frame_00250.jpg\n"
          ]
        }
      ]
    },
    {
      "cell_type": "code",
      "source": [
        "!python run_syncnet.py --videofile input_video.mp4 --reference input_video --data_dir output/ --eval"
      ],
      "metadata": {
        "colab": {
          "base_uri": "https://localhost:8080/"
        },
        "id": "YY_5dGqnvSUk",
        "outputId": "d379d3e9-2ac1-4fb9-dbe2-719f56e7f9c9"
      },
      "execution_count": 43,
      "outputs": [
        {
          "output_type": "stream",
          "name": "stdout",
          "text": [
            "usage: run_syncnet.py [-h] [--initial_model INITIAL_MODEL] [--batch_size BATCH_SIZE]\n",
            "                      [--vshift VSHIFT] [--data_dir DATA_DIR] [--videofile VIDEOFILE]\n",
            "                      [--reference REFERENCE]\n",
            "run_syncnet.py: error: unrecognized arguments: --eval\n"
          ]
        }
      ]
    },
    {
      "cell_type": "code",
      "source": [
        "!ffmpeg -framerate 25 -i output/pywork/input_video/frames/frame_%05d.jpg -i input_audio.wav -c:v libx264 -pix_fmt yuv420p -c:a aac -strict experimental output/output_lipsync.mp4"
      ],
      "metadata": {
        "colab": {
          "base_uri": "https://localhost:8080/"
        },
        "id": "YcINimiHvcNO",
        "outputId": "4857b31e-0947-4901-9c35-5edbf06d5086"
      },
      "execution_count": 44,
      "outputs": [
        {
          "output_type": "stream",
          "name": "stdout",
          "text": [
            "ffmpeg version 4.4.2-0ubuntu0.22.04.1 Copyright (c) 2000-2021 the FFmpeg developers\n",
            "  built with gcc 11 (Ubuntu 11.2.0-19ubuntu1)\n",
            "  configuration: --prefix=/usr --extra-version=0ubuntu0.22.04.1 --toolchain=hardened --libdir=/usr/lib/x86_64-linux-gnu --incdir=/usr/include/x86_64-linux-gnu --arch=amd64 --enable-gpl --disable-stripping --enable-gnutls --enable-ladspa --enable-libaom --enable-libass --enable-libbluray --enable-libbs2b --enable-libcaca --enable-libcdio --enable-libcodec2 --enable-libdav1d --enable-libflite --enable-libfontconfig --enable-libfreetype --enable-libfribidi --enable-libgme --enable-libgsm --enable-libjack --enable-libmp3lame --enable-libmysofa --enable-libopenjpeg --enable-libopenmpt --enable-libopus --enable-libpulse --enable-librabbitmq --enable-librubberband --enable-libshine --enable-libsnappy --enable-libsoxr --enable-libspeex --enable-libsrt --enable-libssh --enable-libtheora --enable-libtwolame --enable-libvidstab --enable-libvorbis --enable-libvpx --enable-libwebp --enable-libx265 --enable-libxml2 --enable-libxvid --enable-libzimg --enable-libzmq --enable-libzvbi --enable-lv2 --enable-omx --enable-openal --enable-opencl --enable-opengl --enable-sdl2 --enable-pocketsphinx --enable-librsvg --enable-libmfx --enable-libdc1394 --enable-libdrm --enable-libiec61883 --enable-chromaprint --enable-frei0r --enable-libx264 --enable-shared\n",
            "  libavutil      56. 70.100 / 56. 70.100\n",
            "  libavcodec     58.134.100 / 58.134.100\n",
            "  libavformat    58. 76.100 / 58. 76.100\n",
            "  libavdevice    58. 13.100 / 58. 13.100\n",
            "  libavfilter     7.110.100 /  7.110.100\n",
            "  libswscale      5.  9.100 /  5.  9.100\n",
            "  libswresample   3.  9.100 /  3.  9.100\n",
            "  libpostproc    55.  9.100 / 55.  9.100\n",
            "Input #0, image2, from 'output/pywork/input_video/frames/frame_%05d.jpg':\n",
            "  Duration: 00:00:10.00, start: 0.000000, bitrate: N/A\n",
            "  Stream #0:0: Video: mjpeg (Baseline), yuvj420p(pc, bt470bg/unknown/unknown), 256x256, 25 fps, 25 tbr, 25 tbn, 25 tbc\n",
            "\u001b[0;33mGuessed Channel Layout for Input Stream #1.0 : mono\n",
            "\u001b[0mInput #1, wav, from 'input_audio.wav':\n",
            "  Metadata:\n",
            "    encoder         : Lavf58.76.100\n",
            "  Duration: 00:00:42.94, bitrate: 256 kb/s\n",
            "  Stream #1:0: Audio: pcm_s16le ([1][0][0][0] / 0x0001), 16000 Hz, mono, s16, 256 kb/s\n",
            "Stream mapping:\n",
            "  Stream #0:0 -> #0:0 (mjpeg (native) -> h264 (libx264))\n",
            "  Stream #1:0 -> #0:1 (pcm_s16le (native) -> aac (native))\n",
            "Press [q] to stop, [?] for help\n",
            "\u001b[0;35m[image2 @ 0x5cd04447a340] \u001b[0m\u001b[0;33mThread message queue blocking; consider raising the thread_queue_size option (current value: 8)\n",
            "\u001b[0m\u001b[1;34m[swscaler @ 0x5cd0445505c0] \u001b[0m\u001b[0;33mdeprecated pixel format used, make sure you did set range correctly\n",
            "\u001b[0m\u001b[1;36m[libx264 @ 0x5cd0445253c0] \u001b[0musing cpu capabilities: MMX2 SSE2Fast SSSE3 SSE4.2 AVX FMA3 BMI2 AVX2 AVX512\n",
            "\u001b[1;36m[libx264 @ 0x5cd0445253c0] \u001b[0mprofile High, level 1.3, 4:2:0, 8-bit\n",
            "\u001b[1;36m[libx264 @ 0x5cd0445253c0] \u001b[0m264 - core 163 r3060 5db6aa6 - H.264/MPEG-4 AVC codec - Copyleft 2003-2021 - http://www.videolan.org/x264.html - options: cabac=1 ref=3 deblock=1:0:0 analyse=0x3:0x113 me=hex subme=7 psy=1 psy_rd=1.00:0.00 mixed_ref=1 me_range=16 chroma_me=1 trellis=1 8x8dct=1 cqm=0 deadzone=21,11 fast_pskip=1 chroma_qp_offset=-2 threads=3 lookahead_threads=1 sliced_threads=0 nr=0 decimate=1 interlaced=0 bluray_compat=0 constrained_intra=0 bframes=3 b_pyramid=2 b_adapt=1 b_bias=0 direct=1 weightb=1 open_gop=0 weightp=2 keyint=250 keyint_min=25 scenecut=40 intra_refresh=0 rc_lookahead=40 rc=crf mbtree=1 crf=23.0 qcomp=0.60 qpmin=0 qpmax=69 qpstep=4 ip_ratio=1.40 aq=1:1.00\n",
            "Output #0, mp4, to 'output/output_lipsync.mp4':\n",
            "  Metadata:\n",
            "    encoder         : Lavf58.76.100\n",
            "  Stream #0:0: Video: h264 (avc1 / 0x31637661), yuv420p(tv, bt470bg/unknown/unknown, progressive), 256x256, q=2-31, 25 fps, 12800 tbn\n",
            "    Metadata:\n",
            "      encoder         : Lavc58.134.100 libx264\n",
            "    Side data:\n",
            "      cpb: bitrate max/min/avg: 0/0/0 buffer size: 0 vbv_delay: N/A\n",
            "  Stream #0:1: Audio: aac (LC) (mp4a / 0x6134706D), 16000 Hz, mono, fltp, 69 kb/s\n",
            "    Metadata:\n",
            "      encoder         : Lavc58.134.100 aac\n",
            "frame=  250 fps=0.0 q=-1.0 Lsize=     381kB time=00:00:42.88 bitrate=  72.7kbits/s speed=55.9x    \n",
            "video:20kB audio:352kB subtitle:0kB other streams:0kB global headers:0kB muxing overhead: 2.466471%\n",
            "\u001b[1;36m[libx264 @ 0x5cd0445253c0] \u001b[0mframe I:1     Avg QP:21.14  size:  4207\n",
            "\u001b[1;36m[libx264 @ 0x5cd0445253c0] \u001b[0mframe P:63    Avg QP:17.81  size:   133\n",
            "\u001b[1;36m[libx264 @ 0x5cd0445253c0] \u001b[0mframe B:186   Avg QP:26.09  size:    38\n",
            "\u001b[1;36m[libx264 @ 0x5cd0445253c0] \u001b[0mconsecutive B-frames:  0.8%  0.0%  0.0% 99.2%\n",
            "\u001b[1;36m[libx264 @ 0x5cd0445253c0] \u001b[0mmb I  I16..4: 28.9% 64.8%  6.2%\n",
            "\u001b[1;36m[libx264 @ 0x5cd0445253c0] \u001b[0mmb P  I16..4:  0.7%  0.7%  0.1%  P16..4:  1.9%  0.3%  0.3%  0.0%  0.0%    skip:96.0%\n",
            "\u001b[1;36m[libx264 @ 0x5cd0445253c0] \u001b[0mmb B  I16..4:  0.1%  0.1%  0.0%  B16..8:  5.4%  0.3%  0.0%  direct: 0.1%  skip:94.1%  L0:52.2% L1:46.9% BI: 0.8%\n",
            "\u001b[1;36m[libx264 @ 0x5cd0445253c0] \u001b[0m8x8 transform intra:54.6% inter:91.4%\n",
            "\u001b[1;36m[libx264 @ 0x5cd0445253c0] \u001b[0mcoded y,uvDC,uvAC intra: 42.0% 50.9% 10.5% inter: 0.4% 0.3% 0.1%\n",
            "\u001b[1;36m[libx264 @ 0x5cd0445253c0] \u001b[0mi16 v,h,dc,p: 69% 26%  5%  1%\n",
            "\u001b[1;36m[libx264 @ 0x5cd0445253c0] \u001b[0mi8 v,h,dc,ddl,ddr,vr,hd,vl,hu: 44% 15% 32%  3%  1%  2%  1%  2%  1%\n",
            "\u001b[1;36m[libx264 @ 0x5cd0445253c0] \u001b[0mi4 v,h,dc,ddl,ddr,vr,hd,vl,hu: 46% 18% 17%  2%  4%  5%  2%  4%  2%\n",
            "\u001b[1;36m[libx264 @ 0x5cd0445253c0] \u001b[0mi8c dc,h,v,p: 45% 18% 34%  2%\n",
            "\u001b[1;36m[libx264 @ 0x5cd0445253c0] \u001b[0mWeighted P-Frames: Y:0.0% UV:0.0%\n",
            "\u001b[1;36m[libx264 @ 0x5cd0445253c0] \u001b[0mref P L0: 64.7%  2.3% 14.1% 19.0%\n",
            "\u001b[1;36m[libx264 @ 0x5cd0445253c0] \u001b[0mref B L0: 59.8% 36.2%  4.0%\n",
            "\u001b[1;36m[libx264 @ 0x5cd0445253c0] \u001b[0mref B L1: 91.8%  8.2%\n",
            "\u001b[1;36m[libx264 @ 0x5cd0445253c0] \u001b[0mkb/s:15.71\n",
            "\u001b[1;36m[aac @ 0x5cd0445262c0] \u001b[0mQavg: 32797.137\n"
          ]
        }
      ]
    },
    {
      "cell_type": "code",
      "source": [
        "!ls -lh output/"
      ],
      "metadata": {
        "colab": {
          "base_uri": "https://localhost:8080/"
        },
        "id": "zCawdhB7vidC",
        "outputId": "a6f1c035-663a-46f8-cb1b-84146aae6d23"
      },
      "execution_count": 45,
      "outputs": [
        {
          "output_type": "stream",
          "name": "stdout",
          "text": [
            "total 388K\n",
            "-rw-r--r-- 1 root root 381K Feb 26 19:31 output_lipsync.mp4\n",
            "drwxr-xr-x 3 root root 4.0K Feb 26 19:25 pywork\n"
          ]
        }
      ]
    },
    {
      "cell_type": "code",
      "source": [
        "from IPython.display import display, Video\n",
        "display(Video(\"output/output_lipsync.mp4\"))"
      ],
      "metadata": {
        "colab": {
          "resources": {
            "http://localhost:8080/output/output_lipsync.mp4": {
              "data": "CjwhRE9DVFlQRSBodG1sPgo8aHRtbCBsYW5nPWVuPgogIDxtZXRhIGNoYXJzZXQ9dXRmLTg+CiAgPG1ldGEgbmFtZT12aWV3cG9ydCBjb250ZW50PSJpbml0aWFsLXNjYWxlPTEsIG1pbmltdW0tc2NhbGU9MSwgd2lkdGg9ZGV2aWNlLXdpZHRoIj4KICA8dGl0bGU+RXJyb3IgNDA0IChOb3QgRm91bmQpISExPC90aXRsZT4KICA8c3R5bGU+CiAgICAqe21hcmdpbjowO3BhZGRpbmc6MH1odG1sLGNvZGV7Zm9udDoxNXB4LzIycHggYXJpYWwsc2Fucy1zZXJpZn1odG1se2JhY2tncm91bmQ6I2ZmZjtjb2xvcjojMjIyO3BhZGRpbmc6MTVweH1ib2R5e21hcmdpbjo3JSBhdXRvIDA7bWF4LXdpZHRoOjM5MHB4O21pbi1oZWlnaHQ6MTgwcHg7cGFkZGluZzozMHB4IDAgMTVweH0qID4gYm9keXtiYWNrZ3JvdW5kOnVybCgvL3d3dy5nb29nbGUuY29tL2ltYWdlcy9lcnJvcnMvcm9ib3QucG5nKSAxMDAlIDVweCBuby1yZXBlYXQ7cGFkZGluZy1yaWdodDoyMDVweH1we21hcmdpbjoxMXB4IDAgMjJweDtvdmVyZmxvdzpoaWRkZW59aW5ze2NvbG9yOiM3Nzc7dGV4dC1kZWNvcmF0aW9uOm5vbmV9YSBpbWd7Ym9yZGVyOjB9QG1lZGlhIHNjcmVlbiBhbmQgKG1heC13aWR0aDo3NzJweCl7Ym9keXtiYWNrZ3JvdW5kOm5vbmU7bWFyZ2luLXRvcDowO21heC13aWR0aDpub25lO3BhZGRpbmctcmlnaHQ6MH19I2xvZ297YmFja2dyb3VuZDp1cmwoLy93d3cuZ29vZ2xlLmNvbS9pbWFnZXMvbG9nb3MvZXJyb3JwYWdlL2Vycm9yX2xvZ28tMTUweDU0LnBuZykgbm8tcmVwZWF0O21hcmdpbi1sZWZ0Oi01cHh9QG1lZGlhIG9ubHkgc2NyZWVuIGFuZCAobWluLXJlc29sdXRpb246MTkyZHBpKXsjbG9nb3tiYWNrZ3JvdW5kOnVybCgvL3d3dy5nb29nbGUuY29tL2ltYWdlcy9sb2dvcy9lcnJvcnBhZ2UvZXJyb3JfbG9nby0xNTB4NTQtMngucG5nKSBuby1yZXBlYXQgMCUgMCUvMTAwJSAxMDAlOy1tb3otYm9yZGVyLWltYWdlOnVybCgvL3d3dy5nb29nbGUuY29tL2ltYWdlcy9sb2dvcy9lcnJvcnBhZ2UvZXJyb3JfbG9nby0xNTB4NTQtMngucG5nKSAwfX1AbWVkaWEgb25seSBzY3JlZW4gYW5kICgtd2Via2l0LW1pbi1kZXZpY2UtcGl4ZWwtcmF0aW86Mil7I2xvZ297YmFja2dyb3VuZDp1cmwoLy93d3cuZ29vZ2xlLmNvbS9pbWFnZXMvbG9nb3MvZXJyb3JwYWdlL2Vycm9yX2xvZ28tMTUweDU0LTJ4LnBuZykgbm8tcmVwZWF0Oy13ZWJraXQtYmFja2dyb3VuZC1zaXplOjEwMCUgMTAwJX19I2xvZ297ZGlzcGxheTppbmxpbmUtYmxvY2s7aGVpZ2h0OjU0cHg7d2lkdGg6MTUwcHh9CiAgPC9zdHlsZT4KICA8YSBocmVmPS8vd3d3Lmdvb2dsZS5jb20vPjxzcGFuIGlkPWxvZ28gYXJpYS1sYWJlbD1Hb29nbGU+PC9zcGFuPjwvYT4KICA8cD48Yj40MDQuPC9iPiA8aW5zPlRoYXTigJlzIGFuIGVycm9yLjwvaW5zPgogIDxwPiAgPGlucz5UaGF04oCZcyBhbGwgd2Uga25vdy48L2lucz4K",
              "ok": false,
              "headers": [
                [
                  "content-length",
                  "1449"
                ],
                [
                  "content-type",
                  "text/html; charset=utf-8"
                ]
              ],
              "status": 404,
              "status_text": ""
            }
          },
          "base_uri": "https://localhost:8080/",
          "height": 172
        },
        "id": "Efh528TKvmiB",
        "outputId": "4a7094aa-f0c5-4848-d561-9a1bafcd006c"
      },
      "execution_count": 46,
      "outputs": [
        {
          "output_type": "display_data",
          "data": {
            "text/plain": [
              "<IPython.core.display.Video object>"
            ],
            "text/html": [
              "<video src=\"output/output_lipsync.mp4\" controls  >\n",
              "      Your browser does not support the <code>video</code> element.\n",
              "    </video>"
            ]
          },
          "metadata": {}
        }
      ]
    },
    {
      "cell_type": "code",
      "source": [
        "from google.colab import files\n",
        "files.download(\"output/output_lipsync.mp4\")\n"
      ],
      "metadata": {
        "colab": {
          "base_uri": "https://localhost:8080/",
          "height": 17
        },
        "id": "uR6uOhgkvs5k",
        "outputId": "01d49500-9c8b-44ad-91ee-57471e7f1070"
      },
      "execution_count": 47,
      "outputs": [
        {
          "output_type": "display_data",
          "data": {
            "text/plain": [
              "<IPython.core.display.Javascript object>"
            ],
            "application/javascript": [
              "\n",
              "    async function download(id, filename, size) {\n",
              "      if (!google.colab.kernel.accessAllowed) {\n",
              "        return;\n",
              "      }\n",
              "      const div = document.createElement('div');\n",
              "      const label = document.createElement('label');\n",
              "      label.textContent = `Downloading \"${filename}\": `;\n",
              "      div.appendChild(label);\n",
              "      const progress = document.createElement('progress');\n",
              "      progress.max = size;\n",
              "      div.appendChild(progress);\n",
              "      document.body.appendChild(div);\n",
              "\n",
              "      const buffers = [];\n",
              "      let downloaded = 0;\n",
              "\n",
              "      const channel = await google.colab.kernel.comms.open(id);\n",
              "      // Send a message to notify the kernel that we're ready.\n",
              "      channel.send({})\n",
              "\n",
              "      for await (const message of channel.messages) {\n",
              "        // Send a message to notify the kernel that we're ready.\n",
              "        channel.send({})\n",
              "        if (message.buffers) {\n",
              "          for (const buffer of message.buffers) {\n",
              "            buffers.push(buffer);\n",
              "            downloaded += buffer.byteLength;\n",
              "            progress.value = downloaded;\n",
              "          }\n",
              "        }\n",
              "      }\n",
              "      const blob = new Blob(buffers, {type: 'application/binary'});\n",
              "      const a = document.createElement('a');\n",
              "      a.href = window.URL.createObjectURL(blob);\n",
              "      a.download = filename;\n",
              "      div.appendChild(a);\n",
              "      a.click();\n",
              "      div.remove();\n",
              "    }\n",
              "  "
            ]
          },
          "metadata": {}
        },
        {
          "output_type": "display_data",
          "data": {
            "text/plain": [
              "<IPython.core.display.Javascript object>"
            ],
            "application/javascript": [
              "download(\"download_9a1798af-0851-4747-a780-e6db3e02acbe\", \"output_lipsync.mp4\", 389805)"
            ]
          },
          "metadata": {}
        }
      ]
    }
  ]
}